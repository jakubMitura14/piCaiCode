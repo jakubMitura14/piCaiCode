{
 "cells": [
  {
   "cell_type": "code",
   "execution_count": null,
   "metadata": {},
   "outputs": [],
   "source": [
    "https://simpleelastix.readthedocs.io/GroupwiseRegistration.html\n",
    "https://github.com/SuperElastix/SimpleElastix/issues/23"
   ]
  },
  {
   "cell_type": "code",
   "execution_count": null,
   "metadata": {},
   "outputs": [],
   "source": [
    "import SimpleITK as sitk\n",
    "\"\"\"\n",
    "We may need to change the image origins to make sure they are the same\n",
    ". This can be done by copying the origin of one of the images origin = firstImage.GetOrigin()\n",
    " and setting it to the others otherImages.SetOrigin(origin)\n",
    "\"\"\"\n",
    "\n",
    "\n",
    "# Concatenate the ND images into one (N+1)D image\n",
    "population = ['image1.hdr', ..., 'imageN.hdr']\n",
    "vectorOfImages = sitk.VectorOfImage()\n",
    "\n",
    "for filename in population:\n",
    "  vectorOfImages.push_back(sitk.ReadImage(filename))\n",
    "\n",
    "image = sitk.JoinSeries(vectorOfImages)\n",
    "\n",
    "# Register\n",
    "elastixImageFilter = sitk.ElastixImageFilter()\n",
    "elastixImageFilter.SetFixedImage(image)\n",
    "elastixImageFilter.SetMovingImage(image)\n",
    "elastixImageFilter.SetParameterMap(sitk.GetDefaultParameterMap('groupwise'))\n",
    "elastixImageFilter.Execute()\n",
    "\n",
    "transformParameterMap = elastixImageFilter.GetTransformParameterMap()\n",
    "transformixImageFilter = sitk.TransformixImageFilter()\n",
    "transformixImageFilter.SetTransformParameterMap(transformParameterMap)\n",
    "\n",
    "population = ['image1.hdr', 'image2.hdr', ... , 'imageN.hdr']\n",
    "\n",
    "here we need to concatenate labels to 4d tensor\n",
    "\n",
    "\n",
    "for filename in population:\n",
    "    transformixImageFilter.SetMovingImage(sitk.ReadImage(filename))\n",
    "    transformixImageFilter.Execute()\n",
    "    sitk.WriteImage(transformixImageFilter.GetResultImage(), \"result_\"+filename)\n",
    "\n",
    "\n",
    "\n",
    "# Turn off interpolation for labels (a bug in SWIG wrapping prevents us from writing directly to a parameter map in a vector so we have unwrap it first) \n",
    "transformParameterMap = transformParameterMapVector[0]\n",
    "transformParameterMap[\"ResampleInterpolator\"] = [\"FinalNearestNeighborInterpolator\"]\n",
    "resultLabel = sitk.Transformix(label4d, transformParameterMap)"
   ]
  }
 ],
 "metadata": {
  "language_info": {
   "name": "python"
  },
  "orig_nbformat": 4
 },
 "nbformat": 4,
 "nbformat_minor": 2
}
