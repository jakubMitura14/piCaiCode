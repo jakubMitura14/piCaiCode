{
 "cells": [
  {
   "cell_type": "code",
   "execution_count": null,
   "metadata": {},
   "outputs": [],
   "source": [
    "# https://simpleelastix.readthedocs.io/GroupwiseRegistration.html\n",
    "# https://github.com/SuperElastix/SimpleElastix/issues/23"
   ]
  },
  {
   "cell_type": "code",
   "execution_count": 5,
   "metadata": {},
   "outputs": [
    {
     "data": {
      "text/plain": [
       "'\\nWe may need to change the image origins to make sure they are the same\\n. This can be done by copying the origin of one of the images origin = firstImage.GetOrigin()\\n and setting it to the others otherImages.SetOrigin(origin)\\n'"
      ]
     },
     "execution_count": 5,
     "metadata": {},
     "output_type": "execute_result"
    }
   ],
   "source": [
    "import SimpleITK as sitk\n",
    "\"\"\"\n",
    "We may need to change the image origins to make sure they are the same\n",
    ". This can be done by copying the origin of one of the images origin = firstImage.GetOrigin()\n",
    " and setting it to the others otherImages.SetOrigin(origin)\n",
    "\"\"\"\n",
    "\n",
    "\n",
    "# # Concatenate the ND images into one (N+1)D image\n",
    "# population = ['image1.hdr', ..., 'imageN.hdr']\n",
    "# vectorOfImages = sitk.VectorOfImage()\n",
    "\n",
    "# for filename in population:\n",
    "#   vectorOfImages.push_back(sitk.ReadImage(filename))\n",
    "\n",
    "# image = sitk.JoinSeries(vectorOfImages)\n",
    "\n",
    "# # Register\n",
    "# elastixImageFilter = sitk.ElastixImageFilter()\n",
    "# elastixImageFilter.SetFixedImage(image)\n",
    "# elastixImageFilter.SetMovingImage(image)\n",
    "# elastixImageFilter.SetParameterMap(sitk.GetDefaultParameterMap('groupwise'))\n",
    "# elastixImageFilter.Execute()\n",
    "\n",
    "# transformParameterMap = elastixImageFilter.GetTransformParameterMap()\n",
    "# transformixImageFilter = sitk.TransformixImageFilter()\n",
    "# transformixImageFilter.SetTransformParameterMap(transformParameterMap)\n",
    "\n",
    "# population = ['image1.hdr', 'image2.hdr', ... , 'imageN.hdr']\n",
    "\n",
    "# here we need to concatenate labels to 4d tensor\n",
    "\n",
    "\n",
    "# for filename in population:\n",
    "#     transformixImageFilter.SetMovingImage(sitk.ReadImage(filename))\n",
    "#     transformixImageFilter.Execute()\n",
    "#     sitk.WriteImage(transformixImageFilter.GetResultImage(), \"result_\"+filename)\n",
    "\n",
    "\n",
    "\n",
    "# # Turn off interpolation for labels (a bug in SWIG wrapping prevents us from writing directly to a parameter map in a vector so we have unwrap it first) \n",
    "# transformParameterMap = transformParameterMapVector[0]\n",
    "# transformParameterMap[\"ResampleInterpolator\"] = [\"FinalNearestNeighborInterpolator\"]\n",
    "# resultLabel = sitk.Transformix(label4d, transformParameterMap)"
   ]
  },
  {
   "cell_type": "code",
   "execution_count": 3,
   "metadata": {},
   "outputs": [],
   "source": [
    "import pandas as pd\n",
    "import SimpleITK as sitk\n",
    "\n",
    "df = pd.read_csv('/home/sliceruser/data/metadata/processedMetaData.csv')\n",
    "row= df.iloc[19]\n",
    "pathT2w= row['t2w']\n",
    "pathHbv= row['hbv']\n",
    "pathADC= row['adc']\n",
    "patht2wLabel= row['reSampledPath']\n"
   ]
  },
  {
   "cell_type": "code",
   "execution_count": 6,
   "metadata": {},
   "outputs": [
    {
     "ename": "NameError",
     "evalue": "name 'slicer' is not defined",
     "output_type": "error",
     "traceback": [
      "\u001b[0;31m---------------------------------------------------------------------------\u001b[0m",
      "\u001b[0;31mNameError\u001b[0m                                 Traceback (most recent call last)",
      "Input \u001b[0;32mIn [6]\u001b[0m, in \u001b[0;36m<cell line: 1>\u001b[0;34m()\u001b[0m\n\u001b[0;32m----> 1\u001b[0m node \u001b[38;5;241m=\u001b[39m \u001b[43mslicer\u001b[49m\u001b[38;5;241m.\u001b[39mcli\u001b[38;5;241m.\u001b[39mrunSync(slicer\u001b[38;5;241m.\u001b[39mmodules\u001b[38;5;241m.\u001b[39mslicerelastixcli)\n\u001b[1;32m      2\u001b[0m \u001b[38;5;28mprint\u001b[39m(node)\n",
      "\u001b[0;31mNameError\u001b[0m: name 'slicer' is not defined"
     ]
    },
    {
     "name": "stdout",
     "output_type": "stream",
     "text": [
      "The history saving thread hit an unexpected error (OperationalError('database is locked')).History will not be written to the database.\n"
     ]
    }
   ],
   "source": [
    "node = slicer.cli.runSync(slicer.modules.slicerelastixcli)\n",
    "print(node)"
   ]
  },
  {
   "cell_type": "code",
   "execution_count": null,
   "metadata": {},
   "outputs": [],
   "source": [
    "from subprocess import Popen\n",
    "import SimpleITK as sitk\n",
    "import pandas as pd\n",
    "\n",
    "commands = [\n",
    "    'date; ls -l; sleep 1; date',\n",
    "    'date; sleep 5; date',\n",
    "    'date; df -h; sleep 3; date',\n",
    "    'date; hostname; sleep 2; date',\n",
    "    'date; uname -a; date',\n",
    "]\n",
    "# run in parallel\n",
    "processes = [Popen(cmd, shell=True) for cmd in commands]\n",
    "# do other things here..\n",
    "# wait for completion\n",
    "for p in processes: p.wait()"
   ]
  }
 ],
 "metadata": {
  "kernelspec": {
   "display_name": "Python 3",
   "language": "python",
   "name": "python3"
  },
  "language_info": {
   "codemirror_mode": {
    "name": "ipython",
    "version": 3
   },
   "file_extension": ".py",
   "mimetype": "text/x-python",
   "name": "python",
   "nbconvert_exporter": "python",
   "pygments_lexer": "ipython3",
   "version": "3.9.10"
  }
 },
 "nbformat": 4,
 "nbformat_minor": 4
}
