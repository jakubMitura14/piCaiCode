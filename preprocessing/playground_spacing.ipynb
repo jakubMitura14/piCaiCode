{
 "cells": [
  {
   "cell_type": "code",
   "execution_count": 1,
   "id": "10c364c4",
   "metadata": {},
   "outputs": [],
   "source": [
    "\n",
    "import matplotlib.pyplot as plt\n",
    "import numpy as np\n",
    "import pandas as pd\n",
    "# if using a Jupyter notebook, includue:\n",
    "%matplotlib inline"
   ]
  },
  {
   "cell_type": "code",
   "execution_count": 2,
   "id": "d5366b17",
   "metadata": {},
   "outputs": [
    {
     "data": {
      "text/plain": [
       "{'t2w_spac_x': (0.234375, 0.78125, 0.5, 0.5),\n",
       " 't2w_spac_y': (0.234375, 0.78125, 0.5, 0.5),\n",
       " 't2w_spac_z': (2.200000060372773, 5.000000066297424, 3.6, 3.0),\n",
       " 'adc_spac_x': (0.859375, 2.5098040103912, 1.7, 2.0),\n",
       " 'adc_spac_y': (0.859375, 2.5098040103912, 1.7, 2.0),\n",
       " 'adc_spac_z': (2.999998832062665, 5.000000232855622, 4.0, 3.0),\n",
       " 'cor_spac_x': (0.286756128073, 0.9765625, 0.6, 0.6),\n",
       " 'cor_spac_y': (0.286756128073, 0.9765625, 0.6, 0.6),\n",
       " 'cor_spac_z': (0.9999999999999636, 4.49999998188102, 2.7, 3.0),\n",
       " 'hbv_spac_x': (0.859375, 2.5098040103912, 1.7, 2.0),\n",
       " 'hbv_spac_y': (0.859375, 2.5098040103912, 1.7, 2.0),\n",
       " 'hbv_spac_z': (2.999998832062665, 5.000000232855622, 4.0, 3.0),\n",
       " 'sag_spac_x': (0.254629641771, 0.78125, 0.5, 0.6),\n",
       " 'sag_spac_y': (0.254629641771, 0.78125, 0.5, 0.6),\n",
       " 'sag_spac_z': (2.999999882111563, 4.000404550206146, 3.5, 3.6)}"
      ]
     },
     "execution_count": 2,
     "metadata": {},
     "output_type": "execute_result"
    }
   ],
   "source": [
    "df = pd.read_csv('/home/sliceruser/data/metadata/processedMetaData.csv')\n",
    "chosenSpacing=(1.5,1.5,1.5) # chosen uniform target spacing\n",
    "\n",
    "\"\"\"\n",
    "looking through all valid spacings (if it si invalid it goes below 0)\n",
    "and displaying minimal maximal and rounded mean spacing and median\n",
    "in my case median and mean values are close - and using the median values will lead to a bit less interpolations later\n",
    "\"\"\"\n",
    "spacingDict={}\n",
    "for keyWord in ['t2w','adc', 'cor','hbv','sag'  ]: \n",
    "    for addedKey in ['_spac_x','_spac_y','_spac_z']:   \n",
    "        colName = keyWord+addedKey\n",
    "        liist = list(filter(lambda it: it>0 ,df[colName].to_numpy() ))\n",
    "        minn=np.min(liist)                \n",
    "        maxx=np.max(liist)\n",
    "        meanRounded = round((minn+maxx)/2,1)\n",
    "        medianRounded = round(np.median(liist),1)\n",
    "        spacingDict[colName]=(minn,maxx,meanRounded,medianRounded)\n",
    "\n",
    "spacingDict\n",
    "\n",
    ""
   ]
  },
  {
   "cell_type": "code",
   "execution_count": 3,
   "id": "f0b6ac6d",
   "metadata": {},
   "outputs": [],
   "source": [
    "from KevinSR import mask_interpolation, SOUP_GAN\n",
    "import os\n",
    "import numpy as np\n",
    "from scipy import ndimage, interpolate\n",
    "from scipy.ndimage import zoom\n",
    "from KevinSR import SOUP_GAN\n",
    "import monai\n",
    "import SimpleITK as sitk\n",
    "from copy import deepcopy\n",
    "\n",
    "\n",
    "def superSampleinZ(data, currentSpacZ, targetSpacZ):\n",
    "    \"\"\"\n",
    "    perform supersampling in Z direction\n",
    "    currentSpac, targetSpac - current and target z spacing - float numbers\n",
    "    \"\"\"\n",
    "    Z_FAC = currentSpacZ/targetSpacZ\n",
    "    # Call the SR interpolation tool from KevinSR\n",
    "    thins_gen = SOUP_GAN(data, Z_FAC, 0)\n",
    "    return thins_gen\n",
    "    \n",
    "def subsample(image, targetSpacZ):\n",
    "    \"\"\"\n",
    "    perform subsampling to targetSpac\n",
    "    TODO() bicubic interpolation adapted from \n",
    "        https://itk.org/Doxygen/html/WikiExamples_2ImageProcessing_2Upsampling_8cxx-example.html\n",
    "        https://discourse.itk.org/t/resample-produces-blurry-results-when-just-cropping/4473/8\n",
    "    \"\"\"    \n",
    "    resample = sitk.ResampleImageFilter()\n",
    "    resample.SetOutputSpacing(targetSpacZ)\n",
    "    resample.SetOutputDirection(image.GetDirection())\n",
    "    resample.SetOutputOrigin(image.GetOrigin())\n",
    "    resample.SetTransform(sitk.Transform())\n",
    "    resample.SetDefaultPixelValue(image.GetPixelIDValue())\n",
    "    resample.SetInterpolator(sitk.sitkBSpline)\n",
    "    return resample.Execute(image) \n",
    "\n",
    "\n",
    "def transformSpacingTo(path, targetSpac):\n",
    "    \"\"\"\n",
    "    transforming spacing of the image which path is supplied to target spacing values\n",
    "    upsampling will be performed with SOUP-GAN  and downsampling will be done via simple itk bicubic interpolation\n",
    "    \"\"\"\n",
    "    image = sitk.ReadImage(path)\n",
    "    spac = image.GetSpacing()\n",
    "    spacGoal=list(deepcopy(spac))    \n",
    "    \n",
    "    for axis in [0,1,2]:\n",
    "        #tuple are immutable ...\n",
    "        spacGoal[axis]=targetSpac[axis]\n",
    "        print(f\"spac {spac} axis {axis} spacing goal {spacGoal} \")\n",
    "        if(targetSpac[axis]>spac[axis]):\n",
    "            #if target spacing is bigger we need to subsample\n",
    "\n",
    "            #overwriting image by resampled one\n",
    "            image=subsample(image, tuple(spacGoal))\n",
    "            pass\n",
    "        if(targetSpac[axis]<spac[axis]):\n",
    "            #we need to perform supersampling - now as supersampling can be performed only in z direction\n",
    "            #we need to rotate image accordingly       \n",
    "            data = sitk.GetArrayFromImage(image)\n",
    "            if(axis==1):\n",
    "                transformed = np.moveaxis(data, 0, 2)\n",
    "                data=superSampleinZ(transformed, spac[axis], targetSpac[axis])\n",
    "                #getting back original shape\n",
    "                data = np.moveaxis(data, 2, 0)\n",
    "            if(axis==2):\n",
    "                transformed = np.moveaxis(data, 1, 2)\n",
    "                data=superSampleinZ(transformed, spac[axis], targetSpac[axis])\n",
    "                #getting back original shape\n",
    "                data = np.moveaxis(data, 2, 1)                \n",
    "            if(axis==3):\n",
    "                # no need to transform\n",
    "                data=superSampleinZ(data, spac[axis], spac[axis], targetSpac[axis])\n",
    "            #recreate the image and ovewrite original\n",
    "            image1 = sitk.GetImageFromArray(data)\n",
    "            image1.SetSpacing(tuple(spacGoal) #updating spacing\n",
    "            image1.SetOrigin(image.GetOrigin())\n",
    "            image1.SetDirection(image.GetDirection())\n",
    "            image = image1\n",
    "            #in case of equality we do nothing\n",
    "    return image\n",
    "\n",
    "\n",
    "\n",
    "\n",
    ""
   ]
  },
  {
   "cell_type": "code",
   "execution_count": 12,
   "id": "e9fe959b",
   "metadata": {},
   "outputs": [
    {
     "name": "stdout",
     "output_type": "stream",
     "text": [
      "(0.5, 0.5, 2.999999996213984)\n"
     ]
    },
    {
     "data": {
      "text/plain": [
       "(384, 384, 19)"
      ]
     },
     "execution_count": 12,
     "metadata": {},
     "output_type": "execute_result"
    }
   ],
   "source": [
    "path ='/home/sliceruser/data/orig/10019/10019_1000019_t2w.mha'\n",
    "imageOrig = sitk.ReadImage(path)\n",
    "orig_spac = imageOrig.GetSpacing()\n",
    "print(orig_spac)\n",
    "imageOrig.GetSize()"
   ]
  },
  {
   "cell_type": "code",
   "execution_count": 5,
   "id": "c5aaf11d",
   "metadata": {},
   "outputs": [
    {
     "name": "stdout",
     "output_type": "stream",
     "text": [
      "WARNING:tensorflow:SavedModel saved prior to TF 2.5 detected when loading Keras model. Please ensure that you are saving the model with model.save() or tf.keras.models.save_model(), *NOT* tf.saved_model.save(). To confirm, there should be a file named \"keras_metadata.pb\" in the SavedModel directory.\n",
      "WARNING:tensorflow:No training configuration found in save file, so the model was *not* compiled. Compile it manually.\n",
      "1/1 [==============================] - 32s 32s/step\n",
      "data shape (57, 384, 384)\n",
      "new_size (384, 384, 170)\n",
      "subsampled (384, 384, 170)\n"
     ]
    },
    {
     "data": {
      "text/plain": [
       "(0.5, 0.5, 1.0)"
      ]
     },
     "execution_count": 5,
     "metadata": {},
     "output_type": "execute_result"
    }
   ],
   "source": [
    "spacc=(0.5,0.5,1)\n",
    "imagee=transformSpacingTo(path,spacc,finalSize)\n",
    "imagee.GetSpacing()"
   ]
  },
  {
   "cell_type": "code",
   "execution_count": 7,
   "id": "e5968910",
   "metadata": {},
   "outputs": [
    {
     "name": "stdout",
     "output_type": "stream",
     "text": [
      "new_size (384, 384, 56)\n",
      "subsampled (384, 384, 56)\n"
     ]
    }
   ],
   "source": [
    "testImagePath = '/home/sliceruser/data/exploration/resampleddB.nii.gz'\n",
    "\n",
    "writer = sitk.ImageFileWriter()\n",
    "imagee.GetSpacing()\n",
    "writer.KeepOriginalImageUIDOn()\n",
    "writer.SetFileName(testImagePath)\n",
    "writer.Execute(imagee)  \n",
    "\n",
    "testImagePathB = '/home/sliceruser/data/exploration/resampledd_itk.nii.gz'\n",
    "imageITKk=subsample(imageOrig, orig_spac,spacc)\n",
    "\n",
    "writer = sitk.ImageFileWriter()\n",
    "writer.KeepOriginalImageUIDOn()\n",
    "writer.SetFileName(testImagePathB)\n",
    "writer.Execute(imageITKk)  \n"
   ]
  },
  {
   "cell_type": "code",
   "execution_count": null,
   "id": "af5b41b7",
   "metadata": {},
   "outputs": [],
   "source": [
    "def transform_low_res_spacing_dataset(targetCommonSpacing):\n",
    "    \"\"\"\n",
    "    transforms to uniform spacing images ['t2w','adc',,'hbv',  ] but not   'cor' 'sag'\n",
    "    \"\"\"\n",
    "    df = pd.read_csv('/home/sliceruser/data/metadata/processedMetaData.csv')\n",
    "    for seriesString in ['t2w','adc', 'hbv' ]: \n",
    "        train_patientsPaths=df[seriesString].dropna().astype('str').to_numpy()\n",
    "        train_patientsPaths=list(filter(lambda path: len(path)>2 ,train_patientsPaths))\n",
    "        for path in train_patientsPaths:\n",
    "            image=transformSpacingTo(path, targetCommonSpacing)\n",
    "            #overwriting data but changing names\n",
    "            newPath=path.replace(\".mha\",\"_resampled.mha\")\n",
    "            writer = sitk.ImageFileWriter()\n",
    "            writer.KeepOriginalImageUIDOn()\n",
    "            writer.SetFileName(newPath)\n",
    "            writer.Execute(image)  \n",
    "\n",
    "\n",
    "transform_low_res_spacing_dataset(chosenSpacing)\n",
    "\n",
    "def get_spatial_meta(row,colName):\n",
    "    \"\"\"\n",
    "    refreshing data about size and spacing\n",
    "    \"\"\"\n",
    "    row=row[1]\n",
    "    patId=str(row['patient_id'])\n",
    "    path=str(row[colName])\n",
    "    path=path.replace(\".mha\",\"_resampled.mha\")\n",
    "    if(len(path)>1):\n",
    "        image = sitk.ReadImage(path)\n",
    "        sizz= ifShortReturnMinus(image.GetSize(),patId,colName )\n",
    "        spac= ifShortReturnMinus(image.GetSpacing(),patId,colName)\n",
    "        orig= ifShortReturnMinus(image.GetOrigin(),patId,colName)\n",
    "        return list(sizz)+list(spac)+list(orig)\n",
    "    return [-1,-1,-1,-1,-1,-1,-1,-1,-1]\n",
    "for keyWord in ['t2w','adc', 'hbv' ]:    \n",
    "    resList=[]\n",
    "    with mp.Pool(processes = mp.cpu_count()) as pool:\n",
    "        resList=pool.map(partial(get_spatial_meta,colName=keyWord)  ,list(df.iterrows()))    \n",
    "    print(type(resList))    \n",
    "    df[keyWord+'_sizz_x']= list(map(lambda arr:arr[0], resList))    \n",
    "    df[keyWord+'_sizz_y']= list(map(lambda arr:arr[1], resList))    \n",
    "    df[keyWord+'_sizz_z']= list(map(lambda arr:arr[2], resList))    "
   ]
  },
  {
   "cell_type": "code",
   "execution_count": 9,
   "id": "9f2affa3",
   "metadata": {},
   "outputs": [
    {
     "data": {
      "text/plain": [
       "(384, 384, 170)"
      ]
     },
     "execution_count": 9,
     "metadata": {},
     "output_type": "execute_result"
    }
   ],
   "source": [
    "imagee.GetSize()"
   ]
  },
  {
   "cell_type": "code",
   "execution_count": null,
   "id": "6688576e",
   "metadata": {},
   "outputs": [],
   "source": []
  }
 ],
 "metadata": {
  "kernelspec": {
   "display_name": "Python 3",
   "language": "python",
   "name": "python3"
  },
  "language_info": {
   "codemirror_mode": {
    "name": "ipython",
    "version": 3
   },
   "file_extension": ".py",
   "mimetype": "text/x-python",
   "name": "python",
   "nbconvert_exporter": "python",
   "pygments_lexer": "ipython3",
   "version": "3.9.10"
  }
 },
 "nbformat": 4,
 "nbformat_minor": 5
}
