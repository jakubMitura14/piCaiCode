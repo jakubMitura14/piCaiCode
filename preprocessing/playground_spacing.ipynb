{
 "cells": [
  {
   "cell_type": "code",
   "execution_count": 1,
   "id": "444d203f-ec73-4cfd-ac2d-9f12bacef9d6",
   "metadata": {},
   "outputs": [],
   "source": [
    "\n",
    "import matplotlib.pyplot as plt\n",
    "import numpy as np\n",
    "import pandas as pd\n",
    "# if using a Jupyter notebook, includue:\n",
    "%matplotlib inline"
   ]
  },
  {
   "cell_type": "code",
   "execution_count": 2,
   "id": "e7b39365-66f0-449a-873f-9c02fbc0e6cf",
   "metadata": {},
   "outputs": [
    {
     "data": {
      "text/plain": [
       "{'t2w_spac_x': (0.234375, 0.78125, 0.5, 0.5),\n",
       " 't2w_spac_y': (0.234375, 0.78125, 0.5, 0.5),\n",
       " 't2w_spac_z': (2.200000060372773, 5.000000066297424, 3.6, 3.0),\n",
       " 'adc_spac_x': (0.859375, 2.5098040103912, 1.7, 2.0),\n",
       " 'adc_spac_y': (0.859375, 2.5098040103912, 1.7, 2.0),\n",
       " 'adc_spac_z': (2.999998832062665, 5.000000232855622, 4.0, 3.0),\n",
       " 'cor_spac_x': (0.286756128073, 0.9765625, 0.6, 0.6),\n",
       " 'cor_spac_y': (0.286756128073, 0.9765625, 0.6, 0.6),\n",
       " 'cor_spac_z': (0.9999999999999636, 4.49999998188102, 2.7, 3.0),\n",
       " 'hbv_spac_x': (0.859375, 2.5098040103912, 1.7, 2.0),\n",
       " 'hbv_spac_y': (0.859375, 2.5098040103912, 1.7, 2.0),\n",
       " 'hbv_spac_z': (2.999998832062665, 5.000000232855622, 4.0, 3.0),\n",
       " 'sag_spac_x': (0.254629641771, 0.78125, 0.5, 0.6),\n",
       " 'sag_spac_y': (0.254629641771, 0.78125, 0.5, 0.6),\n",
       " 'sag_spac_z': (2.999999882111563, 4.000404550206146, 3.5, 3.6)}"
      ]
     },
     "execution_count": 2,
     "metadata": {},
     "output_type": "execute_result"
    }
   ],
   "source": [
    "df = pd.read_csv('/home/sliceruser/data/metadata/processedMetaData.csv')\n",
    "\n",
    "\"\"\"\n",
    "looking through all valid spacings (if it si invalid it goes below 0)\n",
    "and displaying minimal maximal and rounded mean spacing and median\n",
    "in my case median and mean values are close - and using the median values will lead to a bit less interpolations later\n",
    "\"\"\"\n",
    "spacingDict={}\n",
    "for keyWord in ['t2w','adc', 'cor','hbv','sag'  ]: \n",
    "    for addedKey in ['_spac_x','_spac_y','_spac_z']:   \n",
    "        colName = keyWord+addedKey\n",
    "        liist = list(filter(lambda it: it>0 ,df[colName].to_numpy() ))\n",
    "        minn=np.min(liist)                \n",
    "        maxx=np.max(liist)\n",
    "        meanRounded = round((minn+maxx)/2,1)\n",
    "        medianRounded = round(np.median(liist),1)\n",
    "        spacingDict[colName]=(minn,maxx,meanRounded,medianRounded)\n",
    "\n",
    "spacingDict\n",
    "\n"
   ]
  },
  {
   "cell_type": "code",
   "execution_count": 3,
   "id": "a90a993c-dc90-4c06-845d-9edca881207b",
   "metadata": {},
   "outputs": [],
   "source": [
    "from KevinSR import mask_interpolation, SOUP_GAN\n",
    "import os\n",
    "import numpy as np\n",
    "from scipy import ndimage, interpolate\n",
    "from scipy.ndimage import zoom\n",
    "from KevinSR import SOUP_GAN\n",
    "import monai\n",
    "import SimpleITK as sitk\n",
    "from copy import deepcopy\n",
    "\n",
    "\n",
    "def superSampleinZ(data, currentSpacZ, targetSpacZ):\n",
    "    \"\"\"\n",
    "    perform supersampling in Z direction\n",
    "    currentSpac, targetSpac - current and target z spacing - float numbers\n",
    "    \"\"\"\n",
    "    Z_FAC = currentSpacZ/targetSpacZ\n",
    "    # Call the SR interpolation tool from KevinSR\n",
    "    thins_gen = SOUP_GAN(data, Z_FAC, 0)\n",
    "    return thins_gen\n",
    "    \n",
    "def subsample(image,orig_spacing, targetSpacZ):\n",
    "    \"\"\"\n",
    "    perform subsampling to targetSpac\n",
    "    TODO() bicubic interpolation adapted from \n",
    "        https://itk.org/Doxygen/html/WikiExamples_2ImageProcessing_2Upsampling_8cxx-example.html\n",
    "        https://discourse.itk.org/t/resample-produces-blurry-results-when-just-cropping/4473/8\n",
    "    \"\"\" \n",
    "    resample = sitk.ResampleImageFilter()\n",
    "    resample.SetOutputSpacing(targetSpacZ)\n",
    "    resample.SetOutputDirection(image.GetDirection())\n",
    "    resample.SetOutputOrigin(image.GetOrigin())\n",
    "    resample.SetTransform(sitk.Transform())\n",
    "    resample.SetDefaultPixelValue(image.GetPixelIDValue())\n",
    "    resample.SetInterpolator(sitk.sitkBSpline)\n",
    "    \n",
    "    new_size = tuple([int(image.GetSize()[0]*(orig_spacing[0]/targetSpacZ[0])),\n",
    "                int(image.GetSize()[1]*(orig_spacing[1]/targetSpacZ[1])),\n",
    "                int(image.GetSize()[2]*(orig_spacing[2]/targetSpacZ[2]) )  ]  )\n",
    "    \n",
    "    print(f\"new_size {new_size}\")\n",
    "    resample.SetSize(new_size)\n",
    "\n",
    "    res = resample.Execute(image)\n",
    "    print(f\"subsampled {res.GetSize()}\")\n",
    "    return res \n",
    "\n",
    "\n",
    "def transformSpacingTo(path, targetSpac,finalSize):\n",
    "    \"\"\"\n",
    "    transforming spacing of the image which path is supplied to target spacing values\n",
    "    upsampling will be performed with SOUP-GAN  and downsampling will be done via simple itk bicubic interpolation\n",
    "    \"\"\"\n",
    "    image = sitk.ReadImage(path)\n",
    "    spac = image.GetSpacing()\n",
    "    origSpac=spac\n",
    "    spacGoal=list(deepcopy(spac))    \n",
    "    \n",
    "    for axis in [0,1,2]:\n",
    "        #tuple are immutable ...\n",
    "        spacGoal[axis]=targetSpac[axis]\n",
    "# abs        print(f\"spac {spac} axis {axis} spacing goal {spacGoal} \")\n",
    "#         if(targetSpac[axis]>spac[axis]):\n",
    "#             #if target spacing is bigger we need to subsample\n",
    "\n",
    "#             #overwriting image by resampled one\n",
    "#             image=subsample(image, tuple(spacGoal))\n",
    "#             pass\n",
    "        if(targetSpac[axis]<spac[axis]):\n",
    "            #we need to perform supersampling - now as supersampling can be performed only in z direction\n",
    "            #we need to rotate image accordingly       \n",
    "            data = sitk.GetArrayFromImage(image)\n",
    "            if(axis==2):\n",
    "                transformed = np.moveaxis(data, 0, 2)\n",
    "                data=superSampleinZ(transformed, spac[axis], targetSpac[axis])\n",
    "                #getting back original shape\n",
    "                data = np.moveaxis(data, 2, 0)\n",
    "            if(axis==1):\n",
    "                transformed = np.moveaxis(data, 1, 2)\n",
    "                data=superSampleinZ(transformed, spac[axis], targetSpac[axis])\n",
    "                #getting back original shape\n",
    "                data = np.moveaxis(data, 2, 1)                \n",
    "            if(axis==3):\n",
    "                # no need to transform\n",
    "                data=superSampleinZ(data, spac[axis], spac[axis], targetSpac[axis])\n",
    "            #recreate the image and ovewrite original\n",
    "            print(f\"data shape {data.shape}\")\n",
    "            image1 = sitk.GetImageFromArray(data)\n",
    "            image1.SetSpacing(tuple(spacGoal)) #updating spacing\n",
    "            image1.SetOrigin(image.GetOrigin())\n",
    "            image1.SetDirection(image.GetDirection())\n",
    "            image = image1\n",
    "            #in case of equality we do nothing\n",
    "    image=subsample(image,origSpac, tuple(spacGoal))\n",
    "    return image\n",
    "\n",
    "\n",
    "\n",
    "\n"
   ]
  },
  {
   "cell_type": "code",
   "execution_count": 12,
   "id": "3afc05cc-ed76-4415-9875-5d32fd26ac49",
   "metadata": {},
   "outputs": [
    {
     "name": "stdout",
     "output_type": "stream",
     "text": [
      "(0.5, 0.5, 2.999999996213984)\n"
     ]
    },
    {
     "data": {
      "text/plain": [
       "(384, 384, 19)"
      ]
     },
     "execution_count": 12,
     "metadata": {},
     "output_type": "execute_result"
    }
   ],
   "source": [
    "path ='/home/sliceruser/data/orig/10019/10019_1000019_t2w.mha'\n",
    "imageOrig = sitk.ReadImage(path)\n",
    "orig_spac = imageOrig.GetSpacing()\n",
    "print(orig_spac)\n",
    "imageOrig.GetSize()"
   ]
  },
  {
   "cell_type": "code",
   "execution_count": 5,
   "id": "0cf8a3e6-d930-46f5-aa7b-1b67361c30b0",
   "metadata": {},
   "outputs": [
    {
     "name": "stdout",
     "output_type": "stream",
     "text": [
      "WARNING:tensorflow:SavedModel saved prior to TF 2.5 detected when loading Keras model. Please ensure that you are saving the model with model.save() or tf.keras.models.save_model(), *NOT* tf.saved_model.save(). To confirm, there should be a file named \"keras_metadata.pb\" in the SavedModel directory.\n",
      "WARNING:tensorflow:No training configuration found in save file, so the model was *not* compiled. Compile it manually.\n",
      "1/1 [==============================] - 32s 32s/step\n",
      "data shape (57, 384, 384)\n",
      "new_size (384, 384, 170)\n",
      "subsampled (384, 384, 170)\n"
     ]
    },
    {
     "data": {
      "text/plain": [
       "(0.5, 0.5, 1.0)"
      ]
     },
     "execution_count": 5,
     "metadata": {},
     "output_type": "execute_result"
    }
   ],
   "source": [
    "spacc=(0.5,0.5,1)\n",
    "imagee=transformSpacingTo(path,spacc,finalSize)\n",
    "imagee.GetSpacing()"
   ]
  },
  {
   "cell_type": "code",
   "execution_count": 6,
   "id": "46ce9e56-5df0-45c4-b8f3-100345b87ec9",
   "metadata": {},
   "outputs": [],
   "source": [
    "# data = sitk.GetArrayFromImage(imagee)\n",
    "# data.shape"
   ]
  },
  {
   "cell_type": "code",
   "execution_count": 7,
   "id": "976c2713-bf56-4f55-ac6e-af84cabe3652",
   "metadata": {},
   "outputs": [
    {
     "name": "stdout",
     "output_type": "stream",
     "text": [
      "new_size (384, 384, 56)\n",
      "subsampled (384, 384, 56)\n"
     ]
    }
   ],
   "source": [
    "testImagePath = '/home/sliceruser/data/exploration/resampleddB.nii.gz'\n",
    "\n",
    "writer = sitk.ImageFileWriter()\n",
    "imagee.GetSpacing()\n",
    "writer.KeepOriginalImageUIDOn()\n",
    "writer.SetFileName(testImagePath)\n",
    "writer.Execute(imagee)  \n",
    "\n",
    "testImagePathB = '/home/sliceruser/data/exploration/resampledd_itk.nii.gz'\n",
    "imageITKk=subsample(imageOrig, orig_spac,spacc)\n",
    "\n",
    "writer = sitk.ImageFileWriter()\n",
    "writer.KeepOriginalImageUIDOn()\n",
    "writer.SetFileName(testImagePathB)\n",
    "writer.Execute(imageITKk)  \n"
   ]
  },
  {
   "cell_type": "code",
   "execution_count": 8,
   "id": "11320fa9-3e55-426b-828d-78ff72434635",
   "metadata": {},
   "outputs": [],
   "source": [
    "# itk_image=imageOrig\n",
    "# out_spacing=(0.4,0.4,4.0)\n",
    "# resample = sitk.ResampleImageFilter()\n",
    "# resample.SetOutputSpacing(out_spacing)\n",
    "# resample.SetSize(imageOrig.GetSize())\n",
    "# resample.SetOutputDirection(itk_image.GetDirection())\n",
    "# resample.SetOutputOrigin(itk_image.GetOrigin())\n",
    "# resample.SetTransform(sitk.Transform())\n",
    "# resample.SetDefaultPixelValue(itk_image.GetPixelIDValue())\n",
    "# resample.SetInterpolator(sitk.sitkBSpline)\n",
    "# resample.Execute(itk_image).GetSize()"
   ]
  },
  {
   "cell_type": "code",
   "execution_count": 9,
   "id": "d831921a-256c-489a-a26f-507a1d2ce4ba",
   "metadata": {},
   "outputs": [
    {
     "data": {
      "text/plain": [
       "(384, 384, 170)"
      ]
     },
     "execution_count": 9,
     "metadata": {},
     "output_type": "execute_result"
    }
   ],
   "source": [
    "imagee.GetSize()"
   ]
  },
  {
   "cell_type": "code",
   "execution_count": null,
   "id": "87c434f1-9e9f-43bc-b726-483fd0022649",
   "metadata": {},
   "outputs": [],
   "source": []
  }
 ],
 "metadata": {
  "kernelspec": {
   "display_name": "Python 3",
   "language": "python",
   "name": "python3"
  },
  "language_info": {
   "codemirror_mode": {
    "name": "ipython",
    "version": 3
   },
   "file_extension": ".py",
   "mimetype": "text/x-python",
   "name": "python",
   "nbconvert_exporter": "python",
   "pygments_lexer": "ipython3",
   "version": "3.9.10"
  }
 },
 "nbformat": 4,
 "nbformat_minor": 5
}
