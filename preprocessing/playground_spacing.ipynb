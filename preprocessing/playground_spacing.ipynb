{
 "cells": [
  {
   "cell_type": "code",
   "execution_count": 1,
   "id": "444d203f-ec73-4cfd-ac2d-9f12bacef9d6",
   "metadata": {},
   "outputs": [],
   "source": [
    "\n",
    "import matplotlib.pyplot as plt\n",
    "import numpy as np\n",
    "import pandas as pd\n",
    "# if using a Jupyter notebook, includue:\n",
    "%matplotlib inline"
   ]
  },
  {
   "cell_type": "code",
   "execution_count": 2,
   "id": "e7b39365-66f0-449a-873f-9c02fbc0e6cf",
   "metadata": {},
   "outputs": [
    {
     "data": {
      "text/plain": [
       "{'t2w_spac_x': (0.234375, 0.78125, 0.5, 0.5),\n",
       " 't2w_spac_y': (0.234375, 0.78125, 0.5, 0.5),\n",
       " 't2w_spac_z': (2.200000060372773, 5.000000066297424, 3.6, 3.0),\n",
       " 'adc_spac_x': (0.859375, 2.5098040103912, 1.7, 2.0),\n",
       " 'adc_spac_y': (0.859375, 2.5098040103912, 1.7, 2.0),\n",
       " 'adc_spac_z': (2.999998832062665, 5.000000232855622, 4.0, 3.0),\n",
       " 'cor_spac_x': (0.286756128073, 0.9765625, 0.6, 0.6),\n",
       " 'cor_spac_y': (0.286756128073, 0.9765625, 0.6, 0.6),\n",
       " 'cor_spac_z': (0.9999999999999636, 4.49999998188102, 2.7, 3.0),\n",
       " 'hbv_spac_x': (0.859375, 2.5098040103912, 1.7, 2.0),\n",
       " 'hbv_spac_y': (0.859375, 2.5098040103912, 1.7, 2.0),\n",
       " 'hbv_spac_z': (2.999998832062665, 5.000000232855622, 4.0, 3.0),\n",
       " 'sag_spac_x': (0.254629641771, 0.78125, 0.5, 0.6),\n",
       " 'sag_spac_y': (0.254629641771, 0.78125, 0.5, 0.6),\n",
       " 'sag_spac_z': (2.999999882111563, 4.000404550206146, 3.5, 3.6)}"
      ]
     },
     "execution_count": 2,
     "metadata": {},
     "output_type": "execute_result"
    }
   ],
   "source": [
    "df = pd.read_csv('/home/sliceruser/data/metadata/processedMetaData.csv')\n",
    "\n",
    "\"\"\"\n",
    "looking through all valid spacings (if it si invalid it goes below 0)\n",
    "and displaying minimal maximal and rounded mean spacing and median\n",
    "in my case median and mean values are close - and using the median values will lead to a bit less interpolations later\n",
    "\"\"\"\n",
    "spacingDict={}\n",
    "for keyWord in ['t2w','adc', 'cor','hbv','sag'  ]: \n",
    "    for addedKey in ['_spac_x','_spac_y','_spac_z']:   \n",
    "        colName = keyWord+addedKey\n",
    "        liist = list(filter(lambda it: it>0 ,df[colName].to_numpy() ))\n",
    "        minn=np.min(liist)                \n",
    "        maxx=np.max(liist)\n",
    "        meanRounded = round((minn+maxx)/2,1)\n",
    "        medianRounded = round(np.median(liist),1)\n",
    "        spacingDict[colName]=(minn,maxx,meanRounded,medianRounded)\n",
    "\n",
    "spacingDict\n",
    "\n"
   ]
  },
  {
   "cell_type": "code",
   "execution_count": 11,
   "id": "a90a993c-dc90-4c06-845d-9edca881207b",
   "metadata": {},
   "outputs": [],
   "source": [
    "from KevinSR import mask_interpolation, SOUP_GAN\n",
    "import os\n",
    "import numpy as np\n",
    "from scipy import ndimage, interpolate\n",
    "from scipy.ndimage import zoom\n",
    "from KevinSR import SOUP_GAN\n",
    "import monai\n",
    "import SimpleITK as sitk\n",
    "from copy import deepcopy\n",
    "\n",
    "\n",
    "def superSampleinZ(data, currentSpacZ, targetSpacZ):\n",
    "    \"\"\"\n",
    "    perform supersampling in Z direction\n",
    "    currentSpac, targetSpac - current and target z spacing - float numbers\n",
    "    \"\"\"\n",
    "    Z_FAC = currentSpacZ/targetSpacZ\n",
    "    # Call the SR interpolation tool from KevinSR\n",
    "    thins_gen = SOUP_GAN(data, Z_FAC, 0)\n",
    "    return thins_gen\n",
    "    \n",
    "def subsample(image, targetSpacZ):\n",
    "    \"\"\"\n",
    "    perform subsampling to targetSpac\n",
    "    TODO() bicubic interpolation adapted from \n",
    "        https://itk.org/Doxygen/html/WikiExamples_2ImageProcessing_2Upsampling_8cxx-example.html\n",
    "        https://discourse.itk.org/t/resample-produces-blurry-results-when-just-cropping/4473/8\n",
    "    \"\"\"    \n",
    "    resample = sitk.ResampleImageFilter()\n",
    "    resample.SetOutputSpacing(targetSpacZ)\n",
    "    resample.SetOutputDirection(image.GetDirection())\n",
    "    resample.SetOutputOrigin(image.GetOrigin())\n",
    "    resample.SetTransform(sitk.Transform())\n",
    "    resample.SetDefaultPixelValue(image.GetPixelIDValue())\n",
    "    resample.SetInterpolator(sitk.sitkBSpline)\n",
    "    return resample.Execute(image) \n",
    "\n",
    "\n",
    "def transformSpacingTo(path, targetSpac):\n",
    "    \"\"\"\n",
    "    transforming spacing of the image which path is supplied to target spacing values\n",
    "    upsampling will be performed with SOUP-GAN  and downsampling will be done via simple itk bicubic interpolation\n",
    "    \"\"\"\n",
    "    image = sitk.ReadImage(path)\n",
    "    spac = image.GetSpacing()\n",
    "    spacGoal=list(deepcopy(spac))    \n",
    "    \n",
    "    for axis in [0,1,2]:\n",
    "        #tuple are immutable ...\n",
    "        spacGoal[axis]=targetSpac[axis]\n",
    "        print(f\"spac {spac} axis {axis} spacing goal {spacGoal} \")\n",
    "        if(targetSpac[axis]>spac[axis]):\n",
    "            #if target spacing is bigger we need to subsample\n",
    "\n",
    "            #overwriting image by resampled one\n",
    "            image=subsample(image, tuple(spacGoal))\n",
    "            pass\n",
    "        if(targetSpac[axis]<spac[axis]):\n",
    "            #we need to perform supersampling - now as supersampling can be performed only in z direction\n",
    "            #we need to rotate image accordingly       \n",
    "            data = sitk.GetArrayFromImage(image)\n",
    "            if(axis==1):\n",
    "                transformed = np.moveaxis(data, 0, 2)\n",
    "                data=superSampleinZ(transformed, spac[axis], targetSpac[axis])\n",
    "                #getting back original shape\n",
    "                data = np.moveaxis(data, 2, 0)\n",
    "            if(axis==2):\n",
    "                transformed = np.moveaxis(data, 1, 2)\n",
    "                data=superSampleinZ(transformed, spac[axis], targetSpac[axis])\n",
    "                #getting back original shape\n",
    "                data = np.moveaxis(data, 2, 1)                \n",
    "            if(axis==3):\n",
    "                # no need to transform\n",
    "                data=superSampleinZ(data, spac[axis], spac[axis], targetSpac[axis])\n",
    "            #recreate the image and ovewrite original\n",
    "            image1 = sitk.GetImageFromArray(data)\n",
    "            image1.SetSpacing(tuple(spacGoal) #updating spacing\n",
    "            image1.SetOrigin(image.GetOrigin())\n",
    "            image1.SetDirection(image.GetDirection())\n",
    "            image = image1\n",
    "            #in case of equality we do nothing\n",
    "    return image\n",
    "\n",
    "\n",
    "\n",
    "\n"
   ]
  },
  {
   "cell_type": "code",
   "execution_count": 12,
   "id": "3afc05cc-ed76-4415-9875-5d32fd26ac49",
   "metadata": {},
   "outputs": [
    {
     "name": "stdout",
     "output_type": "stream",
     "text": [
      "spac (2.0, 2.0, 3.6000000778885344) axis 0 spacing goal (0.2, 2.0, 3.6000000778885344) \n"
     ]
    },
    {
     "ename": "TypeError",
     "evalue": "'tuple' object does not support item assignment",
     "output_type": "error",
     "traceback": [
      "\u001b[0;31m---------------------------------------------------------------------------\u001b[0m",
      "\u001b[0;31mTypeError\u001b[0m                                 Traceback (most recent call last)",
      "Input \u001b[0;32mIn [12]\u001b[0m, in \u001b[0;36m<cell line: 7>\u001b[0;34m()\u001b[0m\n\u001b[1;32m      4\u001b[0m image \u001b[38;5;241m=\u001b[39m sitk\u001b[38;5;241m.\u001b[39mReadImage(path)\n\u001b[1;32m      6\u001b[0m subsample(image, spacc)\n\u001b[0;32m----> 7\u001b[0m imagee\u001b[38;5;241m=\u001b[39m\u001b[43mtransformSpacingTo\u001b[49m\u001b[43m(\u001b[49m\u001b[43mpath\u001b[49m\u001b[43m,\u001b[49m\u001b[43mspacc\u001b[49m\u001b[43m)\u001b[49m\n\u001b[1;32m      8\u001b[0m imagee\u001b[38;5;241m.\u001b[39mGetSpacing()\n",
      "Input \u001b[0;32mIn [11]\u001b[0m, in \u001b[0;36mtransformSpacingTo\u001b[0;34m(path, targetSpac)\u001b[0m\n\u001b[1;32m     46\u001b[0m spacGoal\u001b[38;5;241m=\u001b[39m\u001b[38;5;28mlist\u001b[39m(deepcopy(spac))    \n\u001b[1;32m     48\u001b[0m \u001b[38;5;28;01mfor\u001b[39;00m axis \u001b[38;5;129;01min\u001b[39;00m [\u001b[38;5;241m0\u001b[39m,\u001b[38;5;241m1\u001b[39m,\u001b[38;5;241m2\u001b[39m]:\n\u001b[1;32m     49\u001b[0m     \u001b[38;5;66;03m#tuple are immutable ...\u001b[39;00m\n\u001b[0;32m---> 50\u001b[0m     spacGoal[axis]\u001b[38;5;241m=\u001b[39mtargetSpac[axis]\n\u001b[1;32m     51\u001b[0m     spacGoal\u001b[38;5;241m=\u001b[39m\u001b[38;5;28mtuple\u001b[39m(spacGoal)\n\u001b[1;32m     52\u001b[0m     \u001b[38;5;28mprint\u001b[39m(\u001b[38;5;124mf\u001b[39m\u001b[38;5;124m\"\u001b[39m\u001b[38;5;124mspac \u001b[39m\u001b[38;5;132;01m{\u001b[39;00mspac\u001b[38;5;132;01m}\u001b[39;00m\u001b[38;5;124m axis \u001b[39m\u001b[38;5;132;01m{\u001b[39;00maxis\u001b[38;5;132;01m}\u001b[39;00m\u001b[38;5;124m spacing goal \u001b[39m\u001b[38;5;132;01m{\u001b[39;00mspacGoal\u001b[38;5;132;01m}\u001b[39;00m\u001b[38;5;124m \u001b[39m\u001b[38;5;124m\"\u001b[39m)\n",
      "\u001b[0;31mTypeError\u001b[0m: 'tuple' object does not support item assignment"
     ]
    }
   ],
   "source": [
    "path ='/home/sliceruser/data/orig/10001/10001_1000001_hbv_bf_corr.mha'\n",
    "spacc=(0.2,0.2,2.0)\n",
    "\n",
    "image = sitk.ReadImage(path)\n",
    "\n",
    "subsample(image, spacc)\n",
    "imagee=transformSpacingTo(path,spacc)\n",
    "imagee.GetSpacing()"
   ]
  },
  {
   "cell_type": "code",
   "execution_count": 7,
   "id": "976c2713-bf56-4f55-ac6e-af84cabe3652",
   "metadata": {},
   "outputs": [
    {
     "data": {
      "text/plain": [
       "(2.0, 2.0, 2.0)"
      ]
     },
     "execution_count": 7,
     "metadata": {},
     "output_type": "execute_result"
    }
   ],
   "source": [
    "imagee.GetSpacing()"
   ]
  },
  {
   "cell_type": "code",
   "execution_count": 6,
   "id": "f7c3a950-da81-450d-a4e4-a77ed066ec9d",
   "metadata": {},
   "outputs": [
    {
     "ename": "TypeError",
     "evalue": "in method 'itkResampleImageFilterIUS3IUS3_SetTransform', argument 2 of type 'itkTransformD33 const *'",
     "output_type": "error",
     "traceback": [
      "\u001b[0;31m---------------------------------------------------------------------------\u001b[0m",
      "\u001b[0;31mTypeError\u001b[0m                                 Traceback (most recent call last)",
      "Input \u001b[0;32mIn [6]\u001b[0m, in \u001b[0;36m<cell line: 10>\u001b[0;34m()\u001b[0m\n\u001b[1;32m      8\u001b[0m interpolator\u001b[38;5;241m.\u001b[39mSetSplineOrder(\u001b[38;5;241m3\u001b[39m)\n\u001b[1;32m      9\u001b[0m transform \u001b[38;5;241m=\u001b[39m itk\u001b[38;5;241m.\u001b[39mIdentityTransform\u001b[38;5;241m.\u001b[39mNew()\n\u001b[0;32m---> 10\u001b[0m resampled_image \u001b[38;5;241m=\u001b[39m \u001b[43mitk\u001b[49m\u001b[38;5;241;43m.\u001b[39;49m\u001b[43mresample_image_filter\u001b[49m\u001b[43m(\u001b[49m\n\u001b[1;32m     11\u001b[0m \u001b[43m    \u001b[49m\u001b[43mimage\u001b[49m\u001b[43m,\u001b[49m\u001b[43m \u001b[49m\u001b[43minterpolator\u001b[49m\u001b[38;5;241;43m=\u001b[39;49m\u001b[43minterpolator\u001b[49m\u001b[43m,\u001b[49m\u001b[43m \u001b[49m\u001b[43mtransform\u001b[49m\u001b[38;5;241;43m=\u001b[39;49m\u001b[43mtransform\u001b[49m\u001b[43m,\u001b[49m\n\u001b[1;32m     12\u001b[0m \u001b[43m    \u001b[49m\u001b[43msize\u001b[49m\u001b[38;5;241;43m=\u001b[39;49m\u001b[43mitk\u001b[49m\u001b[38;5;241;43m.\u001b[39;49m\u001b[43msize\u001b[49m\u001b[43m(\u001b[49m\u001b[43mimage\u001b[49m\u001b[43m)\u001b[49m\u001b[43m,\u001b[49m\u001b[43m \u001b[49m\u001b[43moutput_spacing\u001b[49m\u001b[38;5;241;43m=\u001b[39;49m\u001b[43mitk\u001b[49m\u001b[38;5;241;43m.\u001b[39;49m\u001b[43mspacing\u001b[49m\u001b[43m(\u001b[49m\u001b[43mimage\u001b[49m\u001b[43m)\u001b[49m\u001b[43m,\u001b[49m\u001b[43m \u001b[49m\u001b[43moutput_origin\u001b[49m\u001b[38;5;241;43m=\u001b[39;49m\u001b[43mitk\u001b[49m\u001b[38;5;241;43m.\u001b[39;49m\u001b[43morigin\u001b[49m\u001b[43m(\u001b[49m\u001b[43mimage\u001b[49m\u001b[43m)\u001b[49m\n\u001b[1;32m     13\u001b[0m \u001b[43m)\u001b[49m\n\u001b[1;32m     14\u001b[0m resampled_grid \u001b[38;5;241m=\u001b[39m itk\u001b[38;5;241m.\u001b[39mGetArrayViewFromImage(resampled_image)\n",
      "File \u001b[0;32m~/Slicer/lib/Python/lib/python3.9/site-packages/itk/support/helpers.py:176\u001b[0m, in \u001b[0;36maccept_array_like_xarray_torch.<locals>.image_filter_wrapper\u001b[0;34m(*args, **kwargs)\u001b[0m\n\u001b[1;32m    174\u001b[0m         \u001b[38;5;28;01mreturn\u001b[39;00m output\n\u001b[1;32m    175\u001b[0m \u001b[38;5;28;01melse\u001b[39;00m:\n\u001b[0;32m--> 176\u001b[0m     \u001b[38;5;28;01mreturn\u001b[39;00m \u001b[43mimage_filter\u001b[49m\u001b[43m(\u001b[49m\u001b[38;5;241;43m*\u001b[39;49m\u001b[43margs\u001b[49m\u001b[43m,\u001b[49m\u001b[43m \u001b[49m\u001b[38;5;241;43m*\u001b[39;49m\u001b[38;5;241;43m*\u001b[39;49m\u001b[43mkwargs\u001b[49m\u001b[43m)\u001b[49m\n",
      "File \u001b[0;32m~/Slicer/lib/Python/lib/python3.9/site-packages/itk/itkResampleImageFilterPython.py:3820\u001b[0m, in \u001b[0;36mresample_image_filter\u001b[0;34m(transform_input, transform, interpolator, extrapolator, size, default_pixel_value, output_spacing, output_origin, output_direction, output_parameters_from_image, output_start_index, reference_image, use_reference_image, *args, **kwargs)\u001b[0m\n\u001b[1;32m   3817\u001b[0m specified_kwarg_typehints \u001b[38;5;241m=\u001b[39m { k:v \u001b[38;5;28;01mfor\u001b[39;00m (k,v) \u001b[38;5;129;01min\u001b[39;00m kwarg_typehints\u001b[38;5;241m.\u001b[39mitems() \u001b[38;5;28;01mif\u001b[39;00m kwarg_typehints[k] \u001b[38;5;129;01mis\u001b[39;00m \u001b[38;5;129;01mnot\u001b[39;00m \u001b[38;5;241m.\u001b[39m\u001b[38;5;241m.\u001b[39m\u001b[38;5;241m.\u001b[39m }\n\u001b[1;32m   3818\u001b[0m kwargs\u001b[38;5;241m.\u001b[39mupdate(specified_kwarg_typehints)\n\u001b[0;32m-> 3820\u001b[0m instance \u001b[38;5;241m=\u001b[39m \u001b[43mitk\u001b[49m\u001b[38;5;241;43m.\u001b[39;49m\u001b[43mResampleImageFilter\u001b[49m\u001b[38;5;241;43m.\u001b[39;49m\u001b[43mNew\u001b[49m\u001b[43m(\u001b[49m\u001b[38;5;241;43m*\u001b[39;49m\u001b[43margs\u001b[49m\u001b[43m,\u001b[49m\u001b[43m \u001b[49m\u001b[38;5;241;43m*\u001b[39;49m\u001b[38;5;241;43m*\u001b[39;49m\u001b[43mkwargs\u001b[49m\u001b[43m)\u001b[49m\n\u001b[1;32m   3821\u001b[0m \u001b[38;5;28;01mreturn\u001b[39;00m instance\u001b[38;5;241m.\u001b[39m__internal_call__()\n",
      "File \u001b[0;32m~/Slicer/lib/Python/lib/python3.9/site-packages/itk/support/template_class.py:735\u001b[0m, in \u001b[0;36mitkTemplate.New\u001b[0;34m(self, *args, **kwargs)\u001b[0m\n\u001b[1;32m    732\u001b[0m         \u001b[38;5;28;01mimport\u001b[39;00m \u001b[38;5;21;01mitk\u001b[39;00m\n\u001b[1;32m    734\u001b[0m         \u001b[38;5;28;01mraise\u001b[39;00m itk\u001b[38;5;241m.\u001b[39mTemplateTypeError(\u001b[38;5;28mself\u001b[39m, input_type)\n\u001b[0;32m--> 735\u001b[0m \u001b[38;5;28;01mreturn\u001b[39;00m \u001b[38;5;28;43mself\u001b[39;49m\u001b[43m[\u001b[49m\u001b[38;5;28;43mlist\u001b[39;49m\u001b[43m(\u001b[49m\u001b[43mkeys\u001b[49m\u001b[43m)\u001b[49m\u001b[43m[\u001b[49m\u001b[38;5;241;43m0\u001b[39;49m\u001b[43m]\u001b[49m\u001b[43m]\u001b[49m\u001b[38;5;241;43m.\u001b[39;49m\u001b[43mNew\u001b[49m\u001b[43m(\u001b[49m\u001b[38;5;241;43m*\u001b[39;49m\u001b[43margs\u001b[49m\u001b[43m,\u001b[49m\u001b[43m \u001b[49m\u001b[38;5;241;43m*\u001b[39;49m\u001b[38;5;241;43m*\u001b[39;49m\u001b[43mkwargs\u001b[49m\u001b[43m)\u001b[49m\n",
      "File \u001b[0;32m~/Slicer/lib/Python/lib/python3.9/site-packages/itk/itkResampleImageFilterPython.py:1746\u001b[0m, in \u001b[0;36mitkResampleImageFilterIUS3IUS3.New\u001b[0;34m(*args, **kargs)\u001b[0m\n\u001b[1;32m   1744\u001b[0m obj \u001b[38;5;241m=\u001b[39m itkResampleImageFilterIUS3IUS3\u001b[38;5;241m.\u001b[39m__New_orig__()\n\u001b[1;32m   1745\u001b[0m \u001b[38;5;28;01mfrom\u001b[39;00m \u001b[38;5;21;01mitk\u001b[39;00m\u001b[38;5;21;01m.\u001b[39;00m\u001b[38;5;21;01msupport\u001b[39;00m \u001b[38;5;28;01mimport\u001b[39;00m template_class\n\u001b[0;32m-> 1746\u001b[0m \u001b[43mtemplate_class\u001b[49m\u001b[38;5;241;43m.\u001b[39;49m\u001b[43mNew\u001b[49m\u001b[43m(\u001b[49m\u001b[43mobj\u001b[49m\u001b[43m,\u001b[49m\u001b[43m \u001b[49m\u001b[38;5;241;43m*\u001b[39;49m\u001b[43margs\u001b[49m\u001b[43m,\u001b[49m\u001b[43m \u001b[49m\u001b[38;5;241;43m*\u001b[39;49m\u001b[38;5;241;43m*\u001b[39;49m\u001b[43mkargs\u001b[49m\u001b[43m)\u001b[49m\n\u001b[1;32m   1747\u001b[0m \u001b[38;5;28;01mreturn\u001b[39;00m obj\n",
      "File \u001b[0;32m~/Slicer/lib/Python/lib/python3.9/site-packages/itk/support/template_class.py:800\u001b[0m, in \u001b[0;36mNew\u001b[0;34m(self, *args, **kargs)\u001b[0m\n\u001b[1;32m    797\u001b[0m \u001b[38;5;28;01mdef\u001b[39;00m \u001b[38;5;21mNew\u001b[39m(\u001b[38;5;28mself\u001b[39m, \u001b[38;5;241m*\u001b[39margs, \u001b[38;5;241m*\u001b[39m\u001b[38;5;241m*\u001b[39mkargs):\n\u001b[1;32m    798\u001b[0m     \u001b[38;5;28;01mimport\u001b[39;00m \u001b[38;5;21;01mitk\u001b[39;00m\n\u001b[0;32m--> 800\u001b[0m     \u001b[43mitk\u001b[49m\u001b[38;5;241;43m.\u001b[39;49m\u001b[43mset_inputs\u001b[49m\u001b[43m(\u001b[49m\u001b[38;5;28;43mself\u001b[39;49m\u001b[43m,\u001b[49m\u001b[43m \u001b[49m\u001b[43margs\u001b[49m\u001b[43m,\u001b[49m\u001b[43m \u001b[49m\u001b[43mkargs\u001b[49m\u001b[43m)\u001b[49m\n\u001b[1;32m    802\u001b[0m     \u001b[38;5;66;03m# now, try to add observer to display progress\u001b[39;00m\n\u001b[1;32m    803\u001b[0m     \u001b[38;5;28;01mif\u001b[39;00m \u001b[38;5;124m\"\u001b[39m\u001b[38;5;124mauto_progress\u001b[39m\u001b[38;5;124m\"\u001b[39m \u001b[38;5;129;01min\u001b[39;00m kargs\u001b[38;5;241m.\u001b[39mkeys():\n",
      "File \u001b[0;32m~/Slicer/lib/Python/lib/python3.9/site-packages/itk/support/extras.py:1626\u001b[0m, in \u001b[0;36mset_inputs\u001b[0;34m(new_itk_object, inargs, inkargs)\u001b[0m\n\u001b[1;32m   1624\u001b[0m         attrib(itk\u001b[38;5;241m.\u001b[39moutput(value))\n\u001b[1;32m   1625\u001b[0m \u001b[38;5;28;01melse\u001b[39;00m:\n\u001b[0;32m-> 1626\u001b[0m     \u001b[43mattrib\u001b[49m\u001b[43m(\u001b[49m\u001b[43mitk\u001b[49m\u001b[38;5;241;43m.\u001b[39;49m\u001b[43moutput\u001b[49m\u001b[43m(\u001b[49m\u001b[43mvalue\u001b[49m\u001b[43m)\u001b[49m\u001b[43m)\u001b[49m\n",
      "\u001b[0;31mTypeError\u001b[0m: in method 'itkResampleImageFilterIUS3IUS3_SetTransform', argument 2 of type 'itkTransformD33 const *'"
     ]
    }
   ],
   "source": [
    "# import SimpleITK as sitk\n",
    "# import itk \n",
    "# a='/home/sliceruser/data/orig/10029/10029_1000029_adc.mha'\n",
    "# imageSimple=sitk.ReadImage(a)\n",
    "# image = itk.GetImageFromArray(sitk.GetArrayFromImage(imageSimple))\n",
    "\n",
    "# interpolator = itk.BSplineInterpolateImageFunction.New(image)\n",
    "# interpolator.SetSplineOrder(3)\n",
    "# transform = itk.IdentityTransform.New()\n",
    "# resampled_image = itk.resample_image_filter(\n",
    "#     image, interpolator=interpolator, transform=transform,\n",
    "#     size=itk.size(image), output_spacing=itk.spacing(image), output_origin=itk.origin(image)\n",
    "# )\n",
    "# resampled_grid = itk.GetArrayViewFromImage(resampled_image)"
   ]
  },
  {
   "cell_type": "code",
   "execution_count": null,
   "id": "d831921a-256c-489a-a26f-507a1d2ce4ba",
   "metadata": {},
   "outputs": [],
   "source": []
  }
 ],
 "metadata": {
  "kernelspec": {
   "display_name": "Python 3",
   "language": "python",
   "name": "python3"
  },
  "language_info": {
   "codemirror_mode": {
    "name": "ipython",
    "version": 3
   },
   "file_extension": ".py",
   "mimetype": "text/x-python",
   "name": "python",
   "nbconvert_exporter": "python",
   "pygments_lexer": "ipython3",
   "version": "3.9.10"
  }
 },
 "nbformat": 4,
 "nbformat_minor": 5
}
