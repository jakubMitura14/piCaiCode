{
 "cells": [
  {
   "cell_type": "code",
   "execution_count": 4,
   "id": "24e6924e-a251-4516-89b6-feecb2c2f717",
   "metadata": {},
   "outputs": [],
   "source": [
    "#standarization by https://github.com/NIH-MIP/Radiology_Image_Preprocessing_for_Deep_Learning/blob/main/Codes/Main_Preprocessing.py\n",
    "imagee=removeOutliersBiasFieldCorrect(pathh)"
   ]
  },
  {
   "cell_type": "code",
   "execution_count": 5,
   "id": "70dfacbc-6bbe-48a8-967e-6d7b2e1e2e9d",
   "metadata": {},
   "outputs": [
    {
     "data": {
      "text/plain": [
       "<MRMLCore.vtkMRMLScalarVolumeNode(0x13715ae0) at 0x7f6cfe3ca040>"
      ]
     },
     "execution_count": 5,
     "metadata": {},
     "output_type": "execute_result"
    }
   ],
   "source": [
    "import JupyterNotebooksLib as slicernb\n",
    "\n",
    "import sitkUtils\n",
    "import slicer\n",
    "\n",
    "outputVolumeNode = slicer.mrmlScene.AddNewNodeByClass(\"vtkMRMLScalarVolumeNode\", \"MRHeadFiltered\")\n",
    "sitkUtils.PushVolumeToSlicer(imagee, outputVolumeNode)\n"
   ]
  },
  {
   "cell_type": "code",
   "execution_count": 6,
   "id": "ca5fd66e-c5ad-48e6-844f-05cce605509c",
   "metadata": {},
   "outputs": [
    {
     "data": {
      "text/plain": [
       "<MRMLCore.vtkMRMLScalarVolumeNode(0x13d34de0) at 0x7f6cfe3ca9a0>"
      ]
     },
     "execution_count": 6,
     "metadata": {},
     "output_type": "execute_result"
    }
   ],
   "source": [
    "image1 = sitk.ReadImage(pathh)\n",
    "outputVolumeNode = slicer.mrmlScene.AddNewNodeByClass(\"vtkMRMLScalarVolumeNode\", \"original\")\n",
    "sitkUtils.PushVolumeToSlicer(image1, outputVolumeNode)\n"
   ]
  }
 ],
 "metadata": {
  "kernelspec": {
   "display_name": "Slicer 5.0",
   "language": "python",
   "name": "slicer-5.0"
  },
  "language_info": {
   "file_extension": ".py",
   "mimetype": "text/x-python",
   "name": "python",
   "version": "3.9.10"
  }
 },
 "nbformat": 4,
 "nbformat_minor": 5
}
