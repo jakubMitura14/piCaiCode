{
 "cells": [
  {
   "cell_type": "markdown",
   "metadata": {},
   "source": [
    "Displaying full slicer Viewer in separate tab"
   ]
  },
  {
   "cell_type": "code",
   "execution_count": 1,
   "metadata": {
    "collapsed": false,
    "jupyter": {
     "outputs_hidden": false
    },
    "pycharm": {
     "name": "#%%\n"
    }
   },
   "outputs": [
    {
     "data": {
      "application/vnd.jupyter.widget-view+json": {
       "model_id": "895237f1e4d0479199d22ea1ffa766c0",
       "version_major": 2,
       "version_minor": 0
      },
      "text/plain": [
       "HTML(value='<a href=\"/desktop/\" target=\"_blank\">\\n<b>Click here</b> to open application window in a new browse…"
      ]
     },
     "metadata": {},
     "output_type": "display_data"
    }
   ],
   "source": [
    "import JupyterNotebooksLib as slicernb\n",
    "import slicer\n",
    "slicer.mrmlScene.Clear(False)\n",
    "# Load a Slicer sample data set\n",
    "import SampleData\n",
    "import SimpleITK as sitk\n",
    "import sitkUtils\n",
    "\n",
    "# Set viewer size to 50% of screen size\n",
    "slicernb.AppWindow.setWindowSize(scale=0.5)\n",
    "# Hide patient information from slice view\n",
    "slicernb.showSliceViewAnnotations(False)\n",
    "\n",
    "#slicernb.showVolumeRendering(volume, show=True)\n",
    "app = slicernb.AppWindow()\n",
    "app\n",
    "app.setContents(\"full\")\n",
    "slicer.util.selectModule(\"Data\")\n",
    "from ipywidgets import HTML\n",
    "HTML(f\"\"\"<a href=\"{slicernb.AppWindow.defaultDesktopUrl()}\" target=\"_blank\">\n",
    "<b>Click here</b> to open application window in a new browser tab.</a>\"\"\")"
   ]
  },
  {
   "cell_type": "code",
   "execution_count": 2,
   "metadata": {},
   "outputs": [],
   "source": [
    "def displayy(path,Name):    \n",
    "    image=sitk.ReadImage(path)\n",
    "    outputVolumeNode = slicer.mrmlScene.AddNewNodeByClass(\"vtkMRMLScalarVolumeNode\", Name)\n",
    "    sitkUtils.PushVolumeToSlicer(image, outputVolumeNode)"
   ]
  },
  {
   "cell_type": "code",
   "execution_count": 3,
   "metadata": {},
   "outputs": [],
   "source": [
    "import pandas as pd\n",
    "import SimpleITK as sitk\n",
    "\n",
    "df = pd.read_csv('/home/sliceruser/data/metadata/processedMetaData.csv')\n",
    "row= df.iloc[19]\n",
    "pathT2w= row['t2w']\n",
    "pathHbv= row['hbv']\n",
    "pathADC= row['adc']\n",
    "patht2wLabel= row['reSampledPath']\n",
    "\n",
    "registeredPath = '/home/sliceruser/data/orig/10019/10019_1000019_adc_for_adc/result.0.mha'\n",
    "\n",
    "def displayy(path,Name):    \n",
    "    image=sitk.ReadImage(path)\n",
    "    outputVolumeNode = slicer.mrmlScene.AddNewNodeByClass(\"vtkMRMLScalarVolumeNode\", Name)\n",
    "    sitkUtils.PushVolumeToSlicer(image, outputVolumeNode)\n",
    "    \n",
    "displayy(pathT2w,'t2w')    \n",
    "displayy(pathADC,'origadc')    \n",
    "displayy(registeredPath,'registeredAdc')    \n"
   ]
  },
  {
   "cell_type": "code",
   "execution_count": 36,
   "metadata": {},
   "outputs": [
    {
     "data": {
      "text/plain": [
       "'/home/sliceruser/data/orig/10019/10019_1000019_adc.mha'"
      ]
     },
     "execution_count": 36,
     "metadata": {},
     "output_type": "execute_result"
    }
   ],
   "source": [
    "pathADC"
   ]
  },
  {
   "cell_type": "code",
   "execution_count": 18,
   "metadata": {},
   "outputs": [],
   "source": [
    "# path ='/home/sliceruser/data/orig/10001/10001_1000001_hbv_bf_corr.mha'\n",
    "testImagePath = '/home/sliceruser/data/exploration/resampleddB.nii.gz'\n",
    "origPath ='/home/sliceruser/data/orig/10019/10019_1000019_t2w.mha'\n",
    "testImagePathB = '/home/sliceruser/data/exploration/resampledd_itk.nii.gz'\n",
    "\n",
    "displayy(testImagePath,\"my_resampled\")\n",
    "displayy(testImagePathB,\"itk_resampled\")\n",
    "displayy(origPath,\"original\")"
   ]
  },
  {
   "cell_type": "code",
   "execution_count": 7,
   "metadata": {},
   "outputs": [],
   "source": [
    "a='/home/sliceruser/data/Unires/ur_10019_1000019_adc.nii.gz'\n",
    "b='/home/sliceruser/data/Unires/ur_10019_1000019_cor.nii.gz'\n",
    "c='/home/sliceruser/data/Unires/ur_10019_1000019_hbv.nii.gz'\n",
    "d='/home/sliceruser/data/Unires/ur_10019_1000019_sag.nii.gz'\n",
    "e='/home/sliceruser/data/Unires/ur_10019_1000019_t2w.nii.gz'\n",
    "\n",
    "\n",
    "def displayy(path,Name):    \n",
    "    image=sitk.ReadImage(path)\n",
    "    outputVolumeNode = slicer.mrmlScene.AddNewNodeByClass(\"vtkMRMLScalarVolumeNode\", Name)\n",
    "    sitkUtils.PushVolumeToSlicer(image, outputVolumeNode)\n",
    "    \n",
    "displayy(a,'adc')\n",
    "displayy(b,'cor')\n",
    "displayy(c,'hbv')\n",
    "displayy(d,'sag')\n",
    "displayy(e,'t2w')\n",
    "\n",
    "    "
   ]
  },
  {
   "cell_type": "code",
   "execution_count": 22,
   "metadata": {},
   "outputs": [
    {
     "name": "stderr",
     "output_type": "stream",
     "text": [
      "/tmp/xpython_1235/2858738171.py:8: SettingWithCopyWarning: \n",
      "A value is trying to be set on a copy of a slice from a DataFrame\n",
      "\n",
      "See the caveats in the documentation: https://pandas.pydata.org/pandas-docs/stable/user_guide/indexing.html#returning-a-view-versus-a-copy\n",
      "  pathADC= row['adc']= row['adc']\n"
     ]
    }
   ],
   "source": [
    "import pandas as pd\n",
    "import SimpleITK as sitk\n",
    "\n",
    "df = pd.read_csv('/home/sliceruser/data/metadata/processedMetaData.csv')\n",
    "row= df.iloc[19]\n",
    "pathT2w= row['t2w']\n",
    "pathHbv= row['hbv']\n",
    "pathADC= row['adc']= row['adc']\n",
    "patht2wLabel= row['reSampledPath']\n",
    "\n",
    "def displayy(path,Name):    \n",
    "    image=sitk.ReadImage(path)\n",
    "    outputVolumeNode = slicer.mrmlScene.AddNewNodeByClass(\"vtkMRMLScalarVolumeNode\", Name)\n",
    "    sitkUtils.PushVolumeToSlicer(image, outputVolumeNode)\n",
    "    \n",
    "displayy(pathT2w,\"t2w\")    \n",
    "displayy(pathHbv,\"hbv\")    \n",
    "displayy(pathADC,\"adc\")    \n",
    "displayy(patht2wLabel,\"label\")    \n"
   ]
  },
  {
   "cell_type": "code",
   "execution_count": null,
   "metadata": {},
   "outputs": [],
   "source": []
  },
  {
   "cell_type": "code",
   "execution_count": 26,
   "metadata": {},
   "outputs": [
    {
     "name": "stdout",
     "output_type": "stream",
     "text": [
      "(384, 384, 19)\n",
      "(384, 384, 19)\n"
     ]
    }
   ],
   "source": [
    "image=sitk.ReadImage(registeredPath)\n",
    "print(image.GetSize())\n",
    "image=sitk.ReadImage(pathT2w)\n",
    "print(image.GetSize())"
   ]
  },
  {
   "cell_type": "code",
   "execution_count": 10,
   "metadata": {},
   "outputs": [
    {
     "ename": "<class 'AttributeError'>",
     "evalue": "module 'modules' has no attribute 'slicerelastixcli'",
     "output_type": "error",
     "traceback": [
      "\u001b[0;31m---------------------------------------------------------------------------\u001b[0m",
      "\u001b[0;31mAttributeError\u001b[0m                            Traceback (most recent call last)",
      "Input \u001b[0;32mIn [10]\u001b[0m, in \u001b[0;36m<cell line: 1>\u001b[0;34m()\u001b[0m\n\u001b[0;32m----> 1\u001b[0m node \u001b[38;5;241m=\u001b[39m slicer\u001b[38;5;241m.\u001b[39mcli\u001b[38;5;241m.\u001b[39mrunSync(slicer\u001b[38;5;241m.\u001b[39mmodules\u001b[38;5;241m.\u001b[39mslicerelastixcli)\n\u001b[1;32m      2\u001b[0m \u001b[38;5;28mprint\u001b[39m(node)\n",
      "\u001b[0;31mAttributeError\u001b[0m: module 'modules' has no attribute 'slicerelastixcli'"
     ]
    }
   ],
   "source": [
    "node = slicer.cli.runSync(slicer.modules.slicerelastixcli)\n",
    "print(node)"
   ]
  },
  {
   "cell_type": "code",
   "execution_count": 9,
   "metadata": {},
   "outputs": [
    {
     "data": {
      "text/plain": [
       "<module 'modules' from '/home/sliceruser/Slicer/bin/Python/slicer/__init__.py'>"
      ]
     },
     "execution_count": 9,
     "metadata": {},
     "output_type": "execute_result"
    }
   ],
   "source": [
    "slicer.modules"
   ]
  },
  {
   "cell_type": "code",
   "execution_count": 13,
   "metadata": {},
   "outputs": [
    {
     "data": {
      "text/plain": [
       "<Elastix.ElastixLogic at 0x7f1cfc9e20a0>"
      ]
     },
     "execution_count": 13,
     "metadata": {},
     "output_type": "execute_result"
    }
   ],
   "source": []
  },
  {
   "cell_type": "markdown",
   "metadata": {},
   "source": [
    "# PlayGround Spacing"
   ]
  },
  {
   "cell_type": "code",
   "execution_count": 4,
   "metadata": {},
   "outputs": [
    {
     "data": {
      "application/vnd.jupyter.widget-view+json": {
       "model_id": "e7bb3683a5d748ddb709da55fcb4437f",
       "version_major": 2,
       "version_minor": 0
      },
      "text/plain": [
       "HTML(value='<a href=\"/desktop/\" target=\"_blank\">\\n<b>Click here</b> to open application window in a new browse…"
      ]
     },
     "metadata": {},
     "output_type": "display_data"
    }
   ],
   "source": [
    "import JupyterNotebooksLib as slicernb\n",
    "import slicer\n",
    "slicer.mrmlScene.Clear(False)\n",
    "# Load a Slicer sample data set\n",
    "import SimpleITK as sitk\n",
    "import sitkUtils\n",
    "from KevinSR import mask_interpolation, SOUP_GAN\n",
    "import os\n",
    "import numpy as np\n",
    "from scipy import ndimage, interpolate\n",
    "from scipy.ndimage import zoom\n",
    "from KevinSR import SOUP_GAN\n",
    "import monai\n",
    "import SimpleITK as sitk\n",
    "from copy import deepcopy\n",
    "import tensorflow as tf\n",
    "\n",
    "# Set viewer size to 50% of screen size\n",
    "slicernb.AppWindow.setWindowSize(scale=0.8)\n",
    "# Hide patient information from slice view\n",
    "slicernb.showSliceViewAnnotations(False)\n",
    "\n",
    "#slicernb.showVolumeRendering(volume, show=True)\n",
    "app = slicernb.AppWindow()\n",
    "app\n",
    "app.setContents(\"full\")\n",
    "slicer.util.selectModule(\"Data\")\n",
    "\n",
    "def displayy(path,Name):    \n",
    "    image=sitk.ReadImage(path)\n",
    "    outputVolumeNode = slicer.mrmlScene.AddNewNodeByClass(\"vtkMRMLScalarVolumeNode\", Name)\n",
    "    sitkUtils.PushVolumeToSlicer(image, outputVolumeNode)\n",
    "    \n",
    "def displayy_image(image,Name):    \n",
    "    outputVolumeNode = slicer.mrmlScene.AddNewNodeByClass(\"vtkMRMLScalarVolumeNode\", Name)\n",
    "    sitkUtils.PushVolumeToSlicer(image, outputVolumeNode)\n",
    "    \n",
    "import pandas as pd\n",
    "import SimpleITK as sitk\n",
    "\n",
    "df = pd.read_csv('/home/sliceruser/data/metadata/processedMetaData.csv')\n",
    "row= df.iloc[19]\n",
    "pathT2w= row['t2w']\n",
    "pathHbv= row['hbv']\n",
    "pathADC= row['adc']\n",
    "patht2wLabel= row['reSampledPath']\n",
    "    \n",
    "    \n",
    "\n",
    "from ipywidgets import HTML\n",
    "HTML(f\"\"\"<a href=\"{slicernb.AppWindow.defaultDesktopUrl()}\" target=\"_blank\">\n",
    "<b>Click here</b> to open application window in a new browser tab.</a>\"\"\")\n"
   ]
  },
  {
   "cell_type": "code",
   "execution_count": 6,
   "metadata": {},
   "outputs": [
    {
     "name": "stdout",
     "output_type": "stream",
     "text": [
      "origSize (384, 384, 19)\n",
      "new_size (96, 640, 28)\n",
      "reset context of device 0\n",
      "thicks_ori shape (19, 384, 384) \n"
     ]
    },
    {
     "name": "stderr",
     "output_type": "stream",
     "text": [
      "No training configuration found in save file, so the model was *not* compiled. Compile it manually.\n"
     ]
    },
    {
     "name": "stdout",
     "output_type": "stream",
     "text": [
      "1/1 [==============================] - 16s 16s/step\n",
      "thins_gen shape (19, 384, 640) \n",
      "reset context of device 0\n",
      "thicks_ori shape (640, 384, 19) \n"
     ]
    },
    {
     "name": "stderr",
     "output_type": "stream",
     "text": [
      "No training configuration found in save file, so the model was *not* compiled. Compile it manually.\n",
      "5 out of the last 5 calls to <function Model.make_predict_function.<locals>.predict_function at 0x7f95cf954160> triggered tf.function retracing. Tracing is expensive and the excessive number of tracings could be due to (1) creating @tf.function repeatedly in a loop, (2) passing tensors with different shapes, (3) passing Python objects instead of tensors. For (1), please define your @tf.function outside of the loop. For (2), @tf.function has reduce_retracing=True option that can avoid unnecessary retracing. For (3), please refer to https://www.tensorflow.org/guide/function#controlling_retracing and https://www.tensorflow.org/api_docs/python/tf/function for  more details.\n"
     ]
    },
    {
     "name": "stdout",
     "output_type": "stream",
     "text": [
      "1/1 [==============================] - 21s 21s/step\n",
      "thins_gen shape (640, 384, 28) \n"
     ]
    }
   ],
   "source": [
    "import pandas as pd\n",
    "import SimpleITK as sitk\n",
    "from KevinSR import mask_interpolation, SOUP_GAN\n",
    "import os\n",
    "import numpy as np\n",
    "from scipy import ndimage, interpolate\n",
    "from scipy.ndimage import zoom\n",
    "from KevinSR import SOUP_GAN\n",
    "import monai\n",
    "import SimpleITK as sitk\n",
    "from copy import deepcopy\n",
    "import tensorflow as tf\n",
    "from numba import cuda \n",
    "\n",
    "df = pd.read_csv('/home/sliceruser/data/metadata/processedMetaData.csv')\n",
    "row= df.iloc[19]\n",
    "pathT2w= row['t2w']\n",
    "pathsag= row['sag']\n",
    "\n",
    "pathHbv= row['hbv']\n",
    "pathADC= row['adc']\n",
    "patht2wLabel= row['reSampledPath']\n",
    "testImagePath = '/home/sliceruser/data/exploration/resampledd.mha'\n",
    "\n",
    "def copyDirAndOrigin(imageOrig,spacing,data):\n",
    "    image1 = sitk.GetImageFromArray(data)\n",
    "    image1.SetSpacing(spacing) #updating spacing\n",
    "    image1.SetOrigin(imageOrig.GetOrigin())\n",
    "    image1.SetDirection(imageOrig.GetDirection()) \n",
    "    #print(image1.GetSize())\n",
    "    return image1\n",
    "\n",
    "\n",
    "\n",
    "\n",
    "#pathT2w,pathHbv,pathADC,patht2wLabel\n",
    "def testResample(path, targetSpac):\n",
    "    imageOrig = sitk.ReadImage(path)\n",
    "    origSize= imageOrig.GetSize()\n",
    "    orig_spacing=imageOrig.GetSpacing()\n",
    "    currentSpacing = list(orig_spacing)\n",
    "    print(f\"origSize {origSize}\")\n",
    "    #new size of the image after changed spacing\n",
    "    new_size = tuple([int(origSize[0]*(orig_spacing[0]/targetSpac[0])),\n",
    "                    int(origSize[1]*(orig_spacing[1]/targetSpac[1])),\n",
    "                    int(origSize[2]*(orig_spacing[2]/targetSpac[2]) )  ]  )\n",
    "    print(f\"new_size {new_size}\")\n",
    "    anySuperSampled = False\n",
    "    data=sitk.GetArrayFromImage(imageOrig)\n",
    "    #supersampling if needed\n",
    "    for axis in [0,1,2]:    \n",
    "        if(new_size[axis]>origSize[axis]):\n",
    "            anySuperSampled=True\n",
    "            #in some cases the GPU memory is not cleared enough\n",
    "            device = cuda.get_current_device()\n",
    "            device.reset()\n",
    "            currentSpacing[axis]=targetSpac[axis]\n",
    "            pre_slices = origSize[axis]\n",
    "            post_slices = new_size[axis]\n",
    "            Z_FAC = post_slices/pre_slices # Sampling factor in Z direction\n",
    "            if(axis==1):\n",
    "                data = np.moveaxis(data, 1, 2)\n",
    "            if(axis==2):\n",
    "                data = np.moveaxis(data, 0, 2)\n",
    "            #Call the SR interpolation tool from KevinSR\n",
    "            print(f\"thicks_ori shape {data.shape} \")\n",
    "\n",
    "            data = SOUP_GAN(data, Z_FAC,1)\n",
    "            print(f\"thins_gen shape {data.shape} \")\n",
    "            if(axis==1):\n",
    "                data = np.moveaxis(data, 2, 1)\n",
    "            if(axis==2):\n",
    "                data = np.moveaxis(data, 2, 0)            \n",
    "            \n",
    "\n",
    "    #we need to recreate itk image object only if some supersampling was performed\n",
    "    if(anySuperSampled):\n",
    "        image=copyDirAndOrigin(imageOrig,tuple(currentSpacing),data)\n",
    "    else:\n",
    "        image=imageOrig\n",
    "    #copmpleting resampling given some subsampling needs to be performed\n",
    "    resample = sitk.ResampleImageFilter()\n",
    "    resample.SetOutputSpacing(targetSpac)\n",
    "    resample.SetOutputDirection(image.GetDirection())\n",
    "    resample.SetOutputOrigin(image.GetOrigin())\n",
    "    resample.SetTransform(sitk.Transform())\n",
    "    resample.SetDefaultPixelValue(image.GetPixelIDValue())\n",
    "    resample.SetInterpolator(sitk.sitkBSpline)\n",
    "    resample.SetSize(new_size)\n",
    "    return resample.Execute(image)\n",
    "    \n",
    "    \n",
    "targetSpac=(2.0,0.3,2.0)\n",
    "\n",
    "imageee= testResample(pathT2w,targetSpac)"
   ]
  },
  {
   "cell_type": "code",
   "execution_count": 8,
   "metadata": {},
   "outputs": [],
   "source": [
    "displayy_image(imageee,\"resampled\" )\n",
    "displayy(pathT2w,\"orig\")"
   ]
  },
  {
   "cell_type": "code",
   "execution_count": 7,
   "metadata": {},
   "outputs": [
    {
     "data": {
      "text/plain": [
       "(96, 640, 28)"
      ]
     },
     "execution_count": 7,
     "metadata": {},
     "output_type": "execute_result"
    }
   ],
   "source": [
    "imageee.GetSize()"
   ]
  },
  {
   "cell_type": "code",
   "execution_count": null,
   "metadata": {},
   "outputs": [],
   "source": []
  }
 ],
 "metadata": {
  "kernelspec": {
   "display_name": "Slicer 5.0",
   "language": "python",
   "name": "slicer-5.0"
  },
  "language_info": {
   "file_extension": ".py",
   "mimetype": "text/x-python",
   "name": "python",
   "version": "3.9.10"
  }
 },
 "nbformat": 4,
 "nbformat_minor": 4
}
