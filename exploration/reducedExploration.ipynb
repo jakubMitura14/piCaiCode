{
 "cells": [
  {
   "cell_type": "code",
   "execution_count": 15,
   "id": "0105ce31-6aeb-4ec8-b712-fe9d805ed4f5",
   "metadata": {},
   "outputs": [
    {
     "data": {
      "application/vnd.jupyter.widget-view+json": {
       "model_id": "07f75a5f421942f4843a32d48041f7c6",
       "version_major": 2,
       "version_minor": 0
      },
      "text/plain": [
       "HTML(value='<a href=\"/desktop/\" target=\"_blank\">\\n<b>Click here</b> to open application window in a new browse…"
      ]
     },
     "metadata": {},
     "output_type": "display_data"
    }
   ],
   "source": [
    "import pandas as pd\n",
    "import numpy as np\n",
    "import JupyterNotebooksLib as slicernb\n",
    "import slicer\n",
    "slicer.mrmlScene.Clear(False)\n",
    "# Load a Slicer sample data set\n",
    "import SampleData\n",
    "import SimpleITK as sitk\n",
    "import sitkUtils\n",
    "\n",
    "# Set viewer size to 50% of screen size\n",
    "slicernb.AppWindow.setWindowSize(scale=0.5)\n",
    "# Hide patient information from slice view\n",
    "slicernb.showSliceViewAnnotations(False)\n",
    "\n",
    "#slicernb.showVolumeRendering(volume, show=True)\n",
    "app = slicernb.AppWindow()\n",
    "app\n",
    "app.setContents(\"full\")\n",
    "slicer.util.selectModule(\"Data\")\n",
    "\n",
    "def displayy(path,Name):    \n",
    "    image=sitk.ReadImage(path)\n",
    "    outputVolumeNode = slicer.mrmlScene.AddNewNodeByClass(\"vtkMRMLScalarVolumeNode\", Name)\n",
    "    sitkUtils.PushVolumeToSlicer(image, outputVolumeNode)\n",
    "\n",
    "    \n",
    "def displayyLabel(path,Name):    \n",
    "    image=sitk.ReadImage(path)\n",
    "    outputVolumeNode = slicer.mrmlScene.AddNewNodeByClass(\"vtkMRMLLabelMapVolumeNode\", Name)\n",
    "    sitkUtils.PushVolumeToSlicer(image, outputVolumeNode)\n",
    "    \n",
    "    \n",
    "from ipywidgets import HTML\n",
    "HTML(f\"\"\"<a href=\"{slicernb.AppWindow.defaultDesktopUrl()}\" target=\"_blank\">\n",
    "<b>Click here</b> to open application window in a new browser tab.</a>\"\"\")\n"
   ]
  },
  {
   "cell_type": "code",
   "execution_count": 2,
   "id": "59cab093-bada-48e7-b137-1af8844f0880",
   "metadata": {},
   "outputs": [],
   "source": [
    "adcPath='/home/sliceruser/data/orig/10019/10019_1000019_adctw_for_adcb_tw_/result.0.mha'\n",
    "hbvPath='/home/sliceruser/data/orig/10019/10019_1000019_hbvtw_for_hbvb_tw_/result.0.mha'\n",
    "label='/home/sliceruser/data/picai_labels/csPCa_lesion_delineations/human_expert/resampled/10019_1000019.nii.gz'\n",
    "t2wPath='/home/sliceruser/data/orig/10019/10019_1000019_t2w.mha'\n",
    "displayy(adcPath,'adc')\n",
    "displayy(hbvPath,'hbv')\n",
    "displayy(t2wPath,'t2w')\n",
    "\n",
    "displayyLabel(label,'lab')"
   ]
  },
  {
   "cell_type": "code",
   "execution_count": 4,
   "id": "a0fce7f7-871f-4763-b3d4-2d8238898c3f",
   "metadata": {},
   "outputs": [],
   "source": [
    "adcPath='/home/sliceruser/data/orig/10005/10005_1000005_adctw_for_adcb_tw_/result.0.mha'\n",
    "hbvPath='/home/sliceruser/data/orig/10005/10005_1000005_hbvtw_for_hbvb_tw_/result.0.mha'\n",
    "label='/home/sliceruser/data/picai_labels/csPCa_lesion_delineations/human_expert/resampled/10005_1000005.nii.gz'\n",
    "t2wPath='/home/sliceruser/data/orig/10005/10005_1000005_t2w.mha'\n",
    "displayy(adcPath,'adc')\n",
    "displayy(hbvPath,'hbv')\n",
    "displayy(t2wPath,'t2w')\n",
    "\n",
    "displayyLabel(label,'lab')"
   ]
  },
  {
   "cell_type": "code",
   "execution_count": null,
   "id": "5196250f-4b18-4150-b840-fc3c6939c7c6",
   "metadata": {},
   "outputs": [],
   "source": []
  },
  {
   "cell_type": "code",
   "execution_count": null,
   "id": "078a9615-e6aa-45d7-b688-4c511eb22751",
   "metadata": {},
   "outputs": [],
   "source": [
    "# pathT2w=\"/home/sliceruser/data/orig/10059/10059_1000059_t2w.mha\"\n",
    "# pathAdc=\"/home/sliceruser/data/orig/10059/10059_1000059_adc_med_spac_for_adc_med_spac/result.0.mha\"\n",
    "# pathHbv=\"/home/sliceruser/data/orig/10059/10059_1000059_hbv_med_spac_for_hbv_med_spac/result.0.mha\""
   ]
  },
  {
   "cell_type": "code",
   "execution_count": 10,
   "id": "9f0e689b-f3a4-4a3a-b2b3-66f7d2321398",
   "metadata": {},
   "outputs": [],
   "source": [
    "#/media/jakub/NewVolume/slicerData/orig/10012/10012_1000012_adctw_for_adcb_tw_\n",
    "\n",
    "\n",
    "adcPath='/home/sliceruser/data/orig/10012/10012_1000012_adctw_for_adcb_tw_/result.0.mha'\n",
    "hbvPath='/home/sliceruser/data/orig/10012/10012_1000012_hbvtw_for_hbvb_tw_/result.0.mha'\n",
    "label='/home/sliceruser/data/picai_labels/csPCa_lesion_delineations/human_expert/resampled/10012_1000012.nii.gz'\n",
    "t2wPath='/home/sliceruser/data/orig/10012/10012_1000012_t2w.mha'\n",
    "displayy(adcPath,'adc')\n",
    "displayy(hbvPath,'hbv')\n",
    "displayy(t2wPath,'t2w')\n",
    "\n",
    "displayyLabel(label,'lab')"
   ]
  },
  {
   "cell_type": "code",
   "execution_count": null,
   "id": "224f825b-73ba-43ae-9007-1de36872e739",
   "metadata": {},
   "outputs": [],
   "source": []
  },
  {
   "cell_type": "code",
   "execution_count": 12,
   "id": "545741c0-1a39-4af1-abe1-2c3fa8dbce2d",
   "metadata": {},
   "outputs": [],
   "source": [
    "adcPath='/home/sliceruser/data/orig/10021/10021_1000021_adctw_for_adcb_tw_/result.0.mha'\n",
    "hbvPath='/home/sliceruser/data/orig/10021/10021_1000021_hbvtw_for_hbvb_tw_/result.0.mha'\n",
    "label='/home/sliceruser/data/picai_labels/csPCa_lesion_delineations/human_expert/resampled/10021_1000021.nii.gz'\n",
    "t2wPath='/home/sliceruser/data/orig/10021/10021_1000021_t2w.mha'\n",
    "displayy(adcPath,'adc')\n",
    "displayy(hbvPath,'hbv')\n",
    "displayy(t2wPath,'t2w')\n",
    "\n",
    "displayyLabel(label,'lab')"
   ]
  },
  {
   "cell_type": "code",
   "execution_count": 14,
   "id": "f1c77500-3b3c-4f93-b268-d6c2e30c6db4",
   "metadata": {},
   "outputs": [],
   "source": [
    "# /media/jakub/NewVolume/slicerData/orig/10012\n",
    "\n",
    "#medspac max size\n",
    "\n",
    "basePath='/home/sliceruser/data/orig/10012/'\n",
    "adcPath=basePath+'10012_1000012_t2w_two_spac_div32__34Chan.mha'\n",
    "displayy(adcPath,'adc')\n",
    "displayyLabel(label,'lab')\n"
   ]
  },
  {
   "cell_type": "code",
   "execution_count": 16,
   "id": "4e4a3452-a0b6-4dfb-a4d0-31c9d4855eb9",
   "metadata": {},
   "outputs": [],
   "source": [
    "\n",
    "basePath='/home/sliceruser/data/orig/10012/'\n",
    "adcPath=basePath+'10012_1000012_t2w_one_spac_maxSize__34Chan.mha'\n",
    "label=basePath+'10012_1000012_t2w_label_one_spac_one_spac_maxSize_.nii.gz'\n",
    "\n",
    "displayy(adcPath,'adc')\n",
    "displayyLabel(label,'lab')\n"
   ]
  },
  {
   "cell_type": "code",
   "execution_count": null,
   "id": "50ddc090-42f2-4d0b-8301-8519d96ed90f",
   "metadata": {},
   "outputs": [],
   "source": []
  }
 ],
 "metadata": {
  "kernelspec": {
   "display_name": "Slicer 5.0",
   "language": "python",
   "name": "slicer-5.0"
  },
  "language_info": {
   "file_extension": ".py",
   "mimetype": "text/x-python",
   "name": "python",
   "version": "3.9.10"
  }
 },
 "nbformat": 4,
 "nbformat_minor": 5
}
