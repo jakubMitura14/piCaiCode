{
 "cells": [
  {
   "cell_type": "code",
   "execution_count": null,
   "id": "2ca4fec2-63eb-4042-9746-7599963098fd",
   "metadata": {},
   "outputs": [],
   "source": [
    "5     1000005\n",
    "12    1000012\n",
    "19    1000019\n",
    "21    1000021"
   ]
  },
  {
   "cell_type": "code",
   "execution_count": 1,
   "id": "d2ac16f5-04ec-43f1-8242-6ae56625efd4",
   "metadata": {},
   "outputs": [
    {
     "ename": "<class 'ModuleNotFoundError'>",
     "evalue": "No module named 'torch'",
     "output_type": "error",
     "traceback": [
      "\u001b[0;31m---------------------------------------------------------------------------\u001b[0m",
      "\u001b[0;31mModuleNotFoundError\u001b[0m                       Traceback (most recent call last)",
      "Input \u001b[0;32mIn [1]\u001b[0m, in \u001b[0;36m<cell line: 1>\u001b[0;34m()\u001b[0m\n\u001b[0;32m----> 1\u001b[0m \u001b[38;5;28;01mimport\u001b[39;00m \u001b[38;5;21;01mtorch\u001b[39;00m\n\u001b[1;32m      2\u001b[0m \u001b[38;5;28;01mimport\u001b[39;00m \u001b[38;5;21;01mpandas\u001b[39;00m \u001b[38;5;28;01mas\u001b[39;00m \u001b[38;5;21;01mpd\u001b[39;00m\n\u001b[1;32m      3\u001b[0m \u001b[38;5;28;01mimport\u001b[39;00m \u001b[38;5;21;01mnumpy\u001b[39;00m \u001b[38;5;28;01mas\u001b[39;00m \u001b[38;5;21;01mnp\u001b[39;00m\n",
      "\u001b[0;31mModuleNotFoundError\u001b[0m: No module named 'torch'"
     ]
    }
   ],
   "source": [
    "import torch\n",
    "import pandas as pd\n",
    "import numpy as np\n",
    "import torchio as tio\n",
    "from torch.utils.data import DataLoader\n",
    "import os\n",
    "import SimpleITK as sitk\n",
    "from zipfile import ZipFile\n",
    "from zipfile import BadZipFile\n",
    "import dask.dataframe as dd\n",
    "import os\n",
    "import multiprocessing as mp\n",
    "import functools\n",
    "from functools import partial\n",
    "from os import path as pathOs\n",
    "import comet_ml\n",
    "from comet_ml import Experiment\n",
    "df = pd.read_csv('/home/sliceruser/data/metadata/processedMetaData.csv')\n",
    "#currently We want only imagfes with associated masks\n",
    "df = df.loc[df['isAnyMissing'] ==False]\n",
    "df = df.loc[df['isAnythingInAnnotated']>0 ]\n",
    "# ignore all with deficient spacing\n",
    "for keyWord in ['t2w','adc', 'cor','hbv','sag'  ]:    \n",
    "    colName=keyWord+ \"_spac_x\"\n",
    "    df = df.loc[df[colName]>0 ]\n",
    "# get only complete representaions and only those with labels\n",
    "df = df.loc[df['isAnyMissing'] ==False]\n",
    "df = df.loc[df['isAnythingInAnnotated']>0 ]    \n",
    "    \n",
    "#just for testing    \n",
    "#df=df.sample(n = 4)#TODO remove\n",
    "df= df.head(4)\n",
    "df"
   ]
  },
  {
   "cell_type": "code",
   "execution_count": 2,
   "id": "c1a55f7e-deb6-47fa-a3eb-a8c751041dd4",
   "metadata": {},
   "outputs": [
    {
     "data": {
      "application/vnd.jupyter.widget-view+json": {
       "model_id": "dbc8ac5faec847788bb7d59de4fae008",
       "version_major": 2,
       "version_minor": 0
      },
      "text/plain": [
       "HTML(value='<a href=\"/desktop/\" target=\"_blank\">\\n<b>Click here</b> to open application window in a new browse…"
      ]
     },
     "metadata": {},
     "output_type": "display_data"
    }
   ],
   "source": [
    "import JupyterNotebooksLib as slicernb\n",
    "import slicer\n",
    "slicer.mrmlScene.Clear(False)\n",
    "# Load a Slicer sample data set\n",
    "import SampleData\n",
    "import SimpleITK as sitk\n",
    "import sitkUtils\n",
    "\n",
    "# Set viewer size to 50% of screen size\n",
    "slicernb.AppWindow.setWindowSize(scale=0.5)\n",
    "# Hide patient information from slice view\n",
    "slicernb.showSliceViewAnnotations(False)\n",
    "\n",
    "#slicernb.showVolumeRendering(volume, show=True)\n",
    "app = slicernb.AppWindow()\n",
    "app\n",
    "app.setContents(\"full\")\n",
    "slicer.util.selectModule(\"Data\")\n",
    "\n",
    "def displayy(path,Name):    \n",
    "    image=sitk.ReadImage(path)\n",
    "    outputVolumeNode = slicer.mrmlScene.AddNewNodeByClass(\"vtkMRMLScalarVolumeNode\", Name)\n",
    "    sitkUtils.PushVolumeToSlicer(image, outputVolumeNode)\n",
    "\n",
    "from ipywidgets import HTML\n",
    "HTML(f\"\"\"<a href=\"{slicernb.AppWindow.defaultDesktopUrl()}\" target=\"_blank\">\n",
    "<b>Click here</b> to open application window in a new browser tab.</a>\"\"\")"
   ]
  },
  {
   "cell_type": "code",
   "execution_count": 3,
   "id": "616457c6-b0a3-469a-8ba8-42c0dabc2930",
   "metadata": {},
   "outputs": [
    {
     "ename": "<class 'RuntimeError'>",
     "evalue": "Exception thrown in SimpleITK ImageFileReader_Execute: /work/Stable/Slicer-0-build/SimpleITK/Code/IO/src/sitkImageReaderBase.cxx:97:\nsitk::ERROR: The file \"/home/sliceruser/data/orig/10005/10005_1000005_hbv_stand_medianSpac_for_hbv_med_spac/result.0.mha\" does not exist.",
     "output_type": "error",
     "traceback": [
      "\u001b[0;31m---------------------------------------------------------------------------\u001b[0m",
      "\u001b[0;31mRuntimeError\u001b[0m                              Traceback (most recent call last)",
      "Input \u001b[0;32mIn [3]\u001b[0m, in \u001b[0;36m<cell line: 5>\u001b[0;34m()\u001b[0m\n\u001b[1;32m      3\u001b[0m t2w_resampl\u001b[38;5;241m=\u001b[39m\u001b[38;5;124m'\u001b[39m\u001b[38;5;124m/home/sliceruser/data/orig/10005/10005_1000005_t2w_stand_medianSpac.mha\u001b[39m\u001b[38;5;124m'\u001b[39m\n\u001b[1;32m      4\u001b[0m reg_adc\u001b[38;5;241m=\u001b[39m\u001b[38;5;124m'\u001b[39m\u001b[38;5;124m'\u001b[39m\n\u001b[0;32m----> 5\u001b[0m displayy(reg_hbv,\u001b[38;5;124m\"\u001b[39m\u001b[38;5;124mreg_hbv\u001b[39m\u001b[38;5;124m\"\u001b[39m)\n\u001b[1;32m      6\u001b[0m displayy(t2w_resampl,\u001b[38;5;124m\"\u001b[39m\u001b[38;5;124mt2w_resampl\u001b[39m\u001b[38;5;124m\"\u001b[39m)\n",
      "Input \u001b[0;32mIn [2]\u001b[0m, in \u001b[0;36mdisplayy\u001b[0;34m(path, Name)\u001b[0m\n\u001b[1;32m     20\u001b[0m \u001b[38;5;28;01mdef\u001b[39;00m \u001b[38;5;21mdisplayy\u001b[39m(path,Name):    \n\u001b[0;32m---> 21\u001b[0m     image\u001b[38;5;241m=\u001b[39m\u001b[43msitk\u001b[49m\u001b[38;5;241;43m.\u001b[39;49m\u001b[43mReadImage\u001b[49m\u001b[43m(\u001b[49m\u001b[43mpath\u001b[49m\u001b[43m)\u001b[49m\n\u001b[1;32m     22\u001b[0m     outputVolumeNode \u001b[38;5;241m=\u001b[39m slicer\u001b[38;5;241m.\u001b[39mmrmlScene\u001b[38;5;241m.\u001b[39mAddNewNodeByClass(\u001b[38;5;124m\"\u001b[39m\u001b[38;5;124mvtkMRMLScalarVolumeNode\u001b[39m\u001b[38;5;124m\"\u001b[39m, Name)\n\u001b[1;32m     23\u001b[0m     sitkUtils\u001b[38;5;241m.\u001b[39mPushVolumeToSlicer(image, outputVolumeNode)\n",
      "File \u001b[0;32m~/Slicer/lib/Python/lib/python3.9/site-packages/SimpleITK-2.2.0rc2.post15-py3.9-linux-x86_64.egg/SimpleITK/extra.py:357\u001b[0m, in \u001b[0;36mReadImage\u001b[0;34m(fileName, outputPixelType, imageIO)\u001b[0m\n\u001b[1;32m    355\u001b[0m reader\u001b[38;5;241m.\u001b[39mSetImageIO(imageIO)\n\u001b[1;32m    356\u001b[0m reader\u001b[38;5;241m.\u001b[39mSetOutputPixelType(outputPixelType)\n\u001b[0;32m--> 357\u001b[0m \u001b[38;5;28;01mreturn\u001b[39;00m \u001b[43mreader\u001b[49m\u001b[38;5;241;43m.\u001b[39;49m\u001b[43mExecute\u001b[49m\u001b[43m(\u001b[49m\u001b[43m)\u001b[49m\n",
      "File \u001b[0;32m~/Slicer/lib/Python/lib/python3.9/site-packages/SimpleITK-2.2.0rc2.post15-py3.9-linux-x86_64.egg/SimpleITK/SimpleITK.py:8126\u001b[0m, in \u001b[0;36mImageFileReader.Execute\u001b[0;34m(self)\u001b[0m\n\u001b[1;32m   8120\u001b[0m \u001b[38;5;28;01mdef\u001b[39;00m \u001b[38;5;21mExecute\u001b[39m(\u001b[38;5;28mself\u001b[39m):\n\u001b[1;32m   8121\u001b[0m     \u001b[38;5;124mr\u001b[39m\u001b[38;5;124;03m\"\"\"\u001b[39;00m\n\u001b[1;32m   8122\u001b[0m \u001b[38;5;124;03m    Execute(ImageFileReader self) -> Image\u001b[39;00m\n\u001b[1;32m   8123\u001b[0m \n\u001b[1;32m   8124\u001b[0m \n\u001b[1;32m   8125\u001b[0m \u001b[38;5;124;03m    \"\"\"\u001b[39;00m\n\u001b[0;32m-> 8126\u001b[0m     \u001b[38;5;28;01mreturn\u001b[39;00m \u001b[43m_SimpleITK\u001b[49m\u001b[38;5;241;43m.\u001b[39;49m\u001b[43mImageFileReader_Execute\u001b[49m\u001b[43m(\u001b[49m\u001b[38;5;28;43mself\u001b[39;49m\u001b[43m)\u001b[49m\n",
      "\u001b[0;31mRuntimeError\u001b[0m: Exception thrown in SimpleITK ImageFileReader_Execute: /work/Stable/Slicer-0-build/SimpleITK/Code/IO/src/sitkImageReaderBase.cxx:97:\nsitk::ERROR: The file \"/home/sliceruser/data/orig/10005/10005_1000005_hbv_stand_medianSpac_for_hbv_med_spac/result.0.mha\" does not exist."
     ]
    }
   ],
   "source": [
    "#10005\n",
    "reg_hbv = '/home/sliceruser/data/orig/10005/10005_1000005_hbv_stand_medianSpac_for_hbv_med_spac/result.0.mha'\n",
    "t2w_resampl='/home/sliceruser/data/orig/10005/10005_1000005_t2w_stand_medianSpac.mha'\n",
    "reg_adc=''\n",
    "displayy(reg_hbv,\"reg_hbv\")\n",
    "displayy(t2w_resampl,\"t2w_resampl\")\n"
   ]
  },
  {
   "cell_type": "code",
   "execution_count": 7,
   "id": "80da37e7-60a4-4f70-b74b-3d4cf434aa3f",
   "metadata": {},
   "outputs": [
    {
     "name": "stdout",
     "output_type": "stream",
     "text": [
      "(384, 384, 19)\n",
      "(384, 384, 19)\n"
     ]
    }
   ],
   "source": [
    "reg_hbv_image=sitk.ReadImage(reg_hbv)\n",
    "t2w_resampl_image=sitk.ReadImage(t2w_resampl)\n",
    "print(reg_hbv_image.GetSize())\n",
    "print(t2w_resampl_image.GetSize())\n"
   ]
  },
  {
   "cell_type": "code",
   "execution_count": null,
   "id": "fccec347-f421-4ff9-90ac-281eb1f8779c",
   "metadata": {},
   "outputs": [],
   "source": []
  }
 ],
 "metadata": {
  "kernelspec": {
   "display_name": "Python 3.8.10 64-bit",
   "language": "python",
   "name": "python3"
  },
  "language_info": {
   "file_extension": ".py",
   "mimetype": "text/x-python",
   "name": "python",
   "version": "3.8.10"
  },
  "vscode": {
   "interpreter": {
    "hash": "916dbcbb3f70747c44a77c7bcd40155683ae19c65e1c03b4aa3499c5328201f1"
   }
  }
 },
 "nbformat": 4,
 "nbformat_minor": 5
}
