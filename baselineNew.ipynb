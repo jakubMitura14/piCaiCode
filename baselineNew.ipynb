{
 "cells": [
  {
   "cell_type": "code",
   "execution_count": null,
   "metadata": {},
   "outputs": [
    {
     "name": "stdout",
     "output_type": "stream",
     "text": [
      "aaa\n",
      "zzzzzzzzzzzzzzzzzzzzzzzzzzzzzzzzzzzzzzzzzzzzzzzzz\n"
     ]
    }
   ],
   "source": [
    "\n",
    "import time\n",
    "from pathlib import Path\n",
    "from datetime import datetime\n",
    "import SimpleITK as sitk\n",
    "from monai.utils import set_determinism\n",
    "import math\n",
    "import torch\n",
    "from torch.utils.data import random_split, DataLoader\n",
    "import monai\n",
    "import gdown\n",
    "import pandas as pd\n",
    "import torchio as tio\n",
    "import pytorch_lightning as pl\n",
    "import matplotlib.pyplot as plt\n",
    "import seaborn as sns\n",
    "import numpy as np\n",
    "from sklearn.model_selection import train_test_split\n",
    "from monai.networks.nets import UNet\n",
    "from monai.networks.layers import Norm\n",
    "from monai.metrics import DiceMetric\n",
    "from monai.losses import DiceLoss\n",
    "from monai.inferers import sliding_window_inference\n",
    "from monai.data import CacheDataset,Dataset,PersistentDataset, list_data_collate, decollate_batch\n",
    "from monai.config import print_config\n",
    "from monai.apps import download_and_extract\n",
    "from pytorch_lightning.loggers import WandbLogger\n",
    "\n",
    "sns.set()\n",
    "plt.rcParams['figure.figsize'] = 12, 8\n",
    "monai.utils.set_determinism()\n",
    "\n",
    "from datetime import datetime\n",
    "import os\n",
    "import tempfile\n",
    "from glob import glob\n",
    "\n",
    "from monai.handlers.utils import from_engine\n",
    "from monai.networks.nets import UNet\n",
    "from monai.networks.layers import Norm\n",
    "from monai.metrics import DiceMetric\n",
    "from monai.losses import DiceLoss\n",
    "from monai.inferers import sliding_window_inference\n",
    "from monai.data import CacheDataset, DataLoader, Dataset, decollate_batch\n",
    "from monai.config import print_config\n",
    "from monai.apps import download_and_extract\n",
    "import torch\n",
    "import matplotlib.pyplot as plt\n",
    "import tempfile\n",
    "import shutil\n",
    "import os\n",
    "import glob\n",
    "\n",
    "import torch.nn as nn\n",
    "import torch.nn.functional as F\n",
    "\n",
    "\n",
    "sns.set()\n",
    "plt.rcParams['figure.figsize'] = 12, 8\n",
    "monai.utils.set_determinism()\n",
    "import preprocessing.transformsForMain as transformsForMain\n",
    "import preprocessing.Nyul_preprocessing as Nyul_preprocessing\n",
    "import preprocessing.manageMetaData as manageMetaData\n",
    "import dataManag.utils.dataUtils as dataUtils\n",
    "\n",
    "print(\"zzzzzzzzzzzzzzzzzzzzzzzzzzzzzzzzzzzzzzzzzzzzzzzzz\")\n",
    "\n",
    "#wandb_logger = WandbLogger(project=\"picai\", name = \"baseline\")\n"
   ]
  },
  {
   "cell_type": "code",
   "execution_count": 2,
   "metadata": {},
   "outputs": [
    {
     "name": "stderr",
     "output_type": "stream",
     "text": [
      "WARNING: In /work/ITK-source/ITK/Modules/Core/Common/src/itkObjectFactoryBase.cxx, line 593\n",
      "Possible incompatible factory load:\n",
      "Running itk version :\n",
      "itk version 5.2.1\n",
      "Loaded factory version:\n",
      "itk version 5.3.0\n",
      "Loading factory:\n",
      "/home/sliceruser/Slicer/bin/../lib/Slicer-5.0/ITKFactories/libMRMLIDIOPlugin.so\n",
      "\n",
      "\n"
     ]
    },
    {
     "name": "stdout",
     "output_type": "stream",
     "text": [
      "10294\n",
      "11154\n",
      "11447\n",
      "11471\n"
     ]
    }
   ],
   "source": [
    "df= manageMetaData.load_df_only_full()\n"
   ]
  },
  {
   "cell_type": "code",
   "execution_count": 4,
   "metadata": {},
   "outputs": [
    {
     "name": "stderr",
     "output_type": "stream",
     "text": [
      "GPU available: True, used: True\n",
      "TPU available: False, using: 0 TPU cores\n",
      "IPU available: False, using: 0 IPUs\n",
      "HPU available: False, using: 0 HPUs\n",
      "LOCAL_RANK: 0 - CUDA_VISIBLE_DEVICES: [0]\n",
      "\n",
      "  | Name      | Type       | Params\n",
      "-----------------------------------------\n",
      "0 | net       | UNet       | 2.4 M \n",
      "1 | criterion | DiceCELoss | 0     \n",
      "-----------------------------------------\n",
      "2.4 M     Trainable params\n",
      "0         Non-trainable params\n",
      "2.4 M     Total params\n",
      "9.792     Total estimated model params size (MB)\n"
     ]
    },
    {
     "name": "stdout",
     "output_type": "stream",
     "text": [
      "Train data set: 152\n",
      "Test data set: 32\n",
      "Valid data set: 32\n",
      "Training started at 2022-06-13 14:55:48.376135\n",
      "Train data set: 152\n",
      "Test data set: 32\n",
      "Valid data set: 32\n"
     ]
    },
    {
     "data": {
      "application/vnd.jupyter.widget-view+json": {
       "model_id": "",
       "version_major": 2,
       "version_minor": 0
      },
      "text/plain": [
       "Sanity Checking: 0it [00:00, ?it/s]"
      ]
     },
     "metadata": {},
     "output_type": "display_data"
    },
    {
     "data": {
      "application/vnd.jupyter.widget-view+json": {
       "model_id": "46436d6aa31149f7bd7fba473d2fcb06",
       "version_major": 2,
       "version_minor": 0
      },
      "text/plain": [
       "Training: 0it [00:00, ?it/s]"
      ]
     },
     "metadata": {},
     "output_type": "display_data"
    },
    {
     "data": {
      "application/vnd.jupyter.widget-view+json": {
       "model_id": "",
       "version_major": 2,
       "version_minor": 0
      },
      "text/plain": [
       "Validation: 0it [00:00, ?it/s]"
      ]
     },
     "metadata": {},
     "output_type": "display_data"
    },
    {
     "data": {
      "application/vnd.jupyter.widget-view+json": {
       "model_id": "",
       "version_major": 2,
       "version_minor": 0
      },
      "text/plain": [
       "Validation: 0it [00:00, ?it/s]"
      ]
     },
     "metadata": {},
     "output_type": "display_data"
    },
    {
     "name": "stdout",
     "output_type": "stream",
     "text": [
      "Training duration: 0:03:06.009274\n"
     ]
    }
   ],
   "source": [
    "\n",
    "### Define Data Handling\n",
    "class PiCaiDataModule(pl.LightningDataModule):\n",
    "    def __init__(self,trainSizePercent,batch_size,num_workers,drop_last,df):\n",
    "        super().__init__()\n",
    "        self.batch_size = batch_size\n",
    "        self.df = df\n",
    "        self.num_workers = num_workers\n",
    "        self.drop_last = drop_last\n",
    "        self.train_set = None\n",
    "        self.val_set = None\n",
    "        self.test_set = None  \n",
    "        self.trainSizePercent =trainSizePercent\n",
    "        self.train_files = None\n",
    "        self.val_files= None\n",
    "        self.test_files= None\n",
    "        self.train_ds = None\n",
    "        self.val_ds= None\n",
    "        self.test_ds= None        \n",
    "        self.subjects= None        \n",
    "\n",
    "    def splitDataSet(self,patList, trainSizePercent):\n",
    "        \"\"\"\n",
    "        test train validation split\n",
    "        TODO(balance sets)\n",
    "        \"\"\"\n",
    "        totalLen=len(patList)\n",
    "        train_test_split( patList  )\n",
    "        numTrain= math.ceil(trainSizePercent*totalLen)\n",
    "        numTestAndVal=totalLen-numTrain\n",
    "        numTest=math.ceil(numTestAndVal*0.5)\n",
    "        numVal= numTestAndVal-numTest\n",
    "\n",
    "        # valid_set,test_set = torch.utils.data.random_split(test_and_val_set, [math. ceil(0.5), 0.5])\n",
    "        print('Train data set:', numTrain)\n",
    "        print('Test data set:',numTest)\n",
    "        print('Valid data set:', numVal)\n",
    "        return torch.utils.data.random_split(patList, [numTrain,numVal,numTest])\n",
    "\n",
    "    def get_preprocessing_transform(self):\n",
    "        preprocess = tio.Compose([\n",
    "            tio.RescaleIntensity((-1, 1)),\n",
    "            tio.CropOrPad(self.get_max_shape(self.subjects + self.test_subjects)),\n",
    "            tio.EnsureShapeMultiple(8),  # for the U-Net\n",
    "            tio.OneHot(),\n",
    "        ])\n",
    "        return preprocess\n",
    "    \n",
    "    def get_augmentation_transform(self):\n",
    "        augment = tio.Compose([\n",
    "            tio.RandomAffine(),\n",
    "            tio.RandomGamma(p=0.5),\n",
    "            tio.RandomNoise(p=0.5),\n",
    "            tio.RandomMotion(p=0.1),\n",
    "            tio.RandomBiasField(p=0.25),\n",
    "        ])\n",
    "        return augment\n",
    "\n",
    "    def setup(self, stage=None):\n",
    "        set_determinism(seed=0)\n",
    "        self.subjects = list(map(lambda row: manageMetaData.getMonaiSubjectDataFromDataFrame(row[1])   , list(df.iterrows())))\n",
    "        train_set, valid_set,test_set = self.splitDataSet(self.subjects , self.trainSizePercent)\n",
    "        self.train_subjects = train_set\n",
    "        self.val_subjects = valid_set\n",
    "        self.test_subjects = test_set\n",
    "        train_transforms=transformsForMain.get_train_transforms()\n",
    "        val_transforms= transformsForMain.get_val_transforms()\n",
    "        self.train_ds =  Dataset(data=self.train_subjects, transform=train_transforms)\n",
    "        self.val_ds=     Dataset(data=self.val_subjects, transform=val_transforms)\n",
    "        self.test_ds=    Dataset(data=self.test_subjects, transform=val_transforms)    \n",
    "\n",
    "    def train_dataloader(self):\n",
    "        return DataLoader(self.train_ds, self.batch_size, drop_last=self.drop_last)\n",
    "\n",
    "    def val_dataloader(self):\n",
    "        return DataLoader(self.val_ds, self.batch_size, drop_last=self.drop_last)\n",
    "\n",
    "    def test_dataloader(self):\n",
    "        return DataLoader(self.test_ds, self.batch_size, drop_last=self.drop_last)#num_workers=self.num_workers,\n",
    "\n",
    "data = PiCaiDataModule(\n",
    "    df= df,\n",
    "    batch_size=1,#TODO(batc size determined by lightning)\n",
    "    trainSizePercent=0.7,\n",
    "    num_workers=1,\n",
    "    drop_last=True\n",
    ")\n",
    "data.prepare_data()\n",
    "data.setup()\n",
    "\n",
    "class Model(pl.LightningModule):\n",
    "    def __init__(self, net, criterion, learning_rate, optimizer_class):\n",
    "        super().__init__()\n",
    "        self.lr = learning_rate\n",
    "        self.net = net\n",
    "        self.criterion = criterion\n",
    "        self.optimizer_class = optimizer_class\n",
    "    \n",
    "    def configure_optimizers(self):\n",
    "        optimizer = self.optimizer_class(self.parameters(), lr=self.lr)\n",
    "        return optimizer\n",
    "    \n",
    "    def prepare_batch(self, batch):\n",
    "        return batch['t2w'], batch['label']\n",
    "    \n",
    "    def infer_batch(self, batch):\n",
    "        x, y = self.prepare_batch(batch)\n",
    "        y_hat = self.net(x)\n",
    "        return y_hat, y\n",
    "\n",
    "    def training_step(self, batch, batch_idx):\n",
    "        y_hat, y = self.infer_batch(batch)\n",
    "        loss = self.criterion(y_hat, y)\n",
    "        self.log('train_loss', loss, prog_bar=True)\n",
    "        return loss\n",
    "    \n",
    "    def validation_step(self, batch, batch_idx):\n",
    "        y_hat, y = self.infer_batch(batch)\n",
    "        loss = self.criterion(y_hat, y)\n",
    "        self.log('val_loss', loss)\n",
    "        return loss\n",
    "\n",
    "\n",
    "unet = monai.networks.nets.UNet(\n",
    "    spatial_dims=3,\n",
    "    in_channels=1,\n",
    "    out_channels=1,\n",
    "    channels=(16, 32, 64, 128, 256),\n",
    "    #channels=(16, 16, 16, 16, 16),\n",
    "    strides=(2, 2, 2, 2),\n",
    "    num_res_units=1,\n",
    ")\n",
    "\n"
   ]
  },
  {
   "cell_type": "code",
   "execution_count": null,
   "metadata": {},
   "outputs": [],
   "source": [
    "model = Model(\n",
    "    net=unet,\n",
    "    criterion=monai.losses.DiceCELoss(softmax=True),\n",
    "    learning_rate=1e-2,\n",
    "    optimizer_class=torch.optim.AdamW,\n",
    ")\n",
    "early_stopping = pl.callbacks.early_stopping.EarlyStopping(\n",
    "    monitor='val_loss',\n",
    ")\n",
    "trainer = pl.Trainer(\n",
    "    #accelerator=\"cpu\", #TODO(remove)\n",
    "    max_epochs=3,\n",
    "    #gpus=1,\n",
    "    #precision=16, #TODO(unhash)\n",
    "    callbacks=[early_stopping],\n",
    "    #logger=wandb_logger,\n",
    "    accelerator='gpu',\n",
    "    devices=1\n",
    ")\n",
    "trainer.logger._default_hp_metric = False\n",
    "\n",
    "\n",
    "start = datetime.now()\n",
    "print('Training started at', start)\n",
    "trainer.fit(model=model, datamodule=data)\n",
    "print('Training duration:', datetime.now() - start)"
   ]
  },
  {
   "cell_type": "code",
   "execution_count": null,
   "metadata": {},
   "outputs": [],
   "source": []
  }
 ],
 "metadata": {
  "kernelspec": {
   "display_name": "Python 3 (ipykernel)",
   "language": "python",
   "name": "python3"
  },
  "language_info": {
   "codemirror_mode": {
    "name": "ipython",
    "version": 3
   },
   "file_extension": ".py",
   "mimetype": "text/x-python",
   "name": "python",
   "nbconvert_exporter": "python",
   "pygments_lexer": "ipython3",
   "version": "3.9.10"
  }
 },
 "nbformat": 4,
 "nbformat_minor": 4
}
