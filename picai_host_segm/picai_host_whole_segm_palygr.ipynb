{
 "cells": [
  {
   "cell_type": "code",
   "execution_count": 1,
   "id": "e731948e-96af-4fcd-8163-22c16cb93e9a",
   "metadata": {},
   "outputs": [
    {
     "name": "stdout",
     "output_type": "stream",
     "text": [
      "If you have questions or suggestions, feel free to open an issue at https://github.com/DIAGNijmegen/picai_prep\n",
      "\n",
      "\n",
      "\n",
      "Please cite the following paper when using nnUNet:\n",
      "\n",
      "Isensee, F., Jaeger, P.F., Kohl, S.A.A. et al. \"nnU-Net: a self-configuring method for deep learning-based biomedical image segmentation.\" Nat Methods (2020). https://doi.org/10.1038/s41592-020-01008-z\n",
      "\n",
      "\n",
      "If you have questions or suggestions, feel free to open an issue at https://github.com/MIC-DKFZ/nnUNet\n",
      "\n"
     ]
    }
   ],
   "source": [
    "import picai_host_main_segm\n",
    "import pandas as pd\n",
    "import evalutils\n",
    "import matplotlib\n",
    "import nnunet\n",
    "import SimpleITK\n"
   ]
  },
  {
   "cell_type": "code",
   "execution_count": 2,
   "id": "ab5c8ead-9392-4c1a-b6c1-d5277bdccd72",
   "metadata": {},
   "outputs": [],
   "source": [
    "\n",
    "df = pd.read_csv('/home/sliceruser/data/metadata/processedMetaData_current.csv')\n",
    "\n",
    "segm=picai_host_main_segm.ProstateSegmentationAlgorithm(df,'t2w','adc','hbv')\n",
    "segm.process()"
   ]
  },
  {
   "cell_type": "code",
   "execution_count": null,
   "id": "23521263-9918-4c4a-918b-7249b95a75bf",
   "metadata": {},
   "outputs": [],
   "source": []
  }
 ],
 "metadata": {
  "kernelspec": {
   "display_name": "Python 3",
   "language": "python",
   "name": "python3"
  },
  "language_info": {
   "codemirror_mode": {
    "name": "ipython",
    "version": 3
   },
   "file_extension": ".py",
   "mimetype": "text/x-python",
   "name": "python",
   "nbconvert_exporter": "python",
   "pygments_lexer": "ipython3",
   "version": "3.9.10"
  }
 },
 "nbformat": 4,
 "nbformat_minor": 5
}
