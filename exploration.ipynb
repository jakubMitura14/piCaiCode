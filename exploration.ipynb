{
 "cells": [
  {
   "cell_type": "markdown",
   "metadata": {},
   "source": [
    "Displaying full slicer Viewer in separate tab"
   ]
  },
  {
   "cell_type": "code",
   "execution_count": 39,
   "metadata": {
    "collapsed": false,
    "jupyter": {
     "outputs_hidden": false
    },
    "pycharm": {
     "name": "#%%\n"
    }
   },
   "outputs": [
    {
     "data": {
      "application/vnd.jupyter.widget-view+json": {
       "model_id": "a0a6a394b4b74f5b99692d7374143d49",
       "version_major": 2,
       "version_minor": 0
      },
      "text/plain": [
       "HTML(value='<a href=\"/desktop/\" target=\"_blank\">\\n<b>Click here</b> to open application window in a new browse…"
      ]
     },
     "metadata": {},
     "output_type": "display_data"
    }
   ],
   "source": [
    "import JupyterNotebooksLib as slicernb\n",
    "import slicer\n",
    "slicer.mrmlScene.Clear(False)\n",
    "# Load a Slicer sample data set\n",
    "import SampleData\n",
    "import SimpleITK as sitk\n",
    "import sitkUtils\n",
    "\n",
    "# Set viewer size to 50% of screen size\n",
    "slicernb.AppWindow.setWindowSize(scale=0.5)\n",
    "# Hide patient information from slice view\n",
    "slicernb.showSliceViewAnnotations(False)\n",
    "\n",
    "#slicernb.showVolumeRendering(volume, show=True)\n",
    "app = slicernb.AppWindow()\n",
    "app\n",
    "app.setContents(\"full\")\n",
    "slicer.util.selectModule(\"Data\")\n",
    "from ipywidgets import HTML\n",
    "HTML(f\"\"\"<a href=\"{slicernb.AppWindow.defaultDesktopUrl()}\" target=\"_blank\">\n",
    "<b>Click here</b> to open application window in a new browser tab.</a>\"\"\")"
   ]
  },
  {
   "cell_type": "code",
   "execution_count": 20,
   "metadata": {},
   "outputs": [],
   "source": [
    "def displayy(path,Name):    \n",
    "    image=sitk.ReadImage(path)\n",
    "    outputVolumeNode = slicer.mrmlScene.AddNewNodeByClass(\"vtkMRMLScalarVolumeNode\", Name)\n",
    "    sitkUtils.PushVolumeToSlicer(image, outputVolumeNode)"
   ]
  },
  {
   "cell_type": "code",
   "execution_count": 40,
   "metadata": {},
   "outputs": [],
   "source": [
    "import pandas as pd\n",
    "import SimpleITK as sitk\n",
    "\n",
    "df = pd.read_csv('/home/sliceruser/data/metadata/processedMetaData.csv')\n",
    "row= df.iloc[19]\n",
    "pathT2w= row['t2w']\n",
    "pathHbv= row['hbv']\n",
    "pathADC= row['adc']\n",
    "patht2wLabel= row['reSampledPath']\n",
    "\n",
    "registeredPath = '/home/sliceruser/data/orig/10019/10019_1000019_adc_for_adc/result.0.mha'\n",
    "\n",
    "def displayy(path,Name):    \n",
    "    image=sitk.ReadImage(path)\n",
    "    outputVolumeNode = slicer.mrmlScene.AddNewNodeByClass(\"vtkMRMLScalarVolumeNode\", Name)\n",
    "    sitkUtils.PushVolumeToSlicer(image, outputVolumeNode)\n",
    "    \n",
    "displayy(pathT2w,'t2w')    \n",
    "displayy(pathADC,'origadc')    \n",
    "displayy(registeredPath,'registeredAdc')    \n"
   ]
  },
  {
   "cell_type": "code",
   "execution_count": 36,
   "metadata": {},
   "outputs": [
    {
     "data": {
      "text/plain": [
       "'/home/sliceruser/data/orig/10019/10019_1000019_adc.mha'"
      ]
     },
     "execution_count": 36,
     "metadata": {},
     "output_type": "execute_result"
    }
   ],
   "source": [
    "pathADC"
   ]
  },
  {
   "cell_type": "code",
   "execution_count": 18,
   "metadata": {},
   "outputs": [],
   "source": [
    "# path ='/home/sliceruser/data/orig/10001/10001_1000001_hbv_bf_corr.mha'\n",
    "testImagePath = '/home/sliceruser/data/exploration/resampleddB.nii.gz'\n",
    "origPath ='/home/sliceruser/data/orig/10019/10019_1000019_t2w.mha'\n",
    "testImagePathB = '/home/sliceruser/data/exploration/resampledd_itk.nii.gz'\n",
    "\n",
    "displayy(testImagePath,\"my_resampled\")\n",
    "displayy(testImagePathB,\"itk_resampled\")\n",
    "displayy(origPath,\"original\")"
   ]
  },
  {
   "cell_type": "code",
   "execution_count": 7,
   "metadata": {},
   "outputs": [],
   "source": [
    "a='/home/sliceruser/data/Unires/ur_10019_1000019_adc.nii.gz'\n",
    "b='/home/sliceruser/data/Unires/ur_10019_1000019_cor.nii.gz'\n",
    "c='/home/sliceruser/data/Unires/ur_10019_1000019_hbv.nii.gz'\n",
    "d='/home/sliceruser/data/Unires/ur_10019_1000019_sag.nii.gz'\n",
    "e='/home/sliceruser/data/Unires/ur_10019_1000019_t2w.nii.gz'\n",
    "\n",
    "\n",
    "def displayy(path,Name):    \n",
    "    image=sitk.ReadImage(path)\n",
    "    outputVolumeNode = slicer.mrmlScene.AddNewNodeByClass(\"vtkMRMLScalarVolumeNode\", Name)\n",
    "    sitkUtils.PushVolumeToSlicer(image, outputVolumeNode)\n",
    "    \n",
    "displayy(a,'adc')\n",
    "displayy(b,'cor')\n",
    "displayy(c,'hbv')\n",
    "displayy(d,'sag')\n",
    "displayy(e,'t2w')\n",
    "\n",
    "    "
   ]
  },
  {
   "cell_type": "code",
   "execution_count": 22,
   "metadata": {},
   "outputs": [
    {
     "name": "stderr",
     "output_type": "stream",
     "text": [
      "/tmp/xpython_1235/2858738171.py:8: SettingWithCopyWarning: \n",
      "A value is trying to be set on a copy of a slice from a DataFrame\n",
      "\n",
      "See the caveats in the documentation: https://pandas.pydata.org/pandas-docs/stable/user_guide/indexing.html#returning-a-view-versus-a-copy\n",
      "  pathADC= row['adc']= row['adc']\n"
     ]
    }
   ],
   "source": [
    "import pandas as pd\n",
    "import SimpleITK as sitk\n",
    "\n",
    "df = pd.read_csv('/home/sliceruser/data/metadata/processedMetaData.csv')\n",
    "row= df.iloc[19]\n",
    "pathT2w= row['t2w']\n",
    "pathHbv= row['hbv']\n",
    "pathADC= row['adc']= row['adc']\n",
    "patht2wLabel= row['reSampledPath']\n",
    "\n",
    "def displayy(path,Name):    \n",
    "    image=sitk.ReadImage(path)\n",
    "    outputVolumeNode = slicer.mrmlScene.AddNewNodeByClass(\"vtkMRMLScalarVolumeNode\", Name)\n",
    "    sitkUtils.PushVolumeToSlicer(image, outputVolumeNode)\n",
    "    \n",
    "displayy(pathT2w,\"t2w\")    \n",
    "displayy(pathHbv,\"hbv\")    \n",
    "displayy(pathADC,\"adc\")    \n",
    "displayy(patht2wLabel,\"label\")    \n"
   ]
  },
  {
   "cell_type": "code",
   "execution_count": null,
   "metadata": {},
   "outputs": [],
   "source": []
  },
  {
   "cell_type": "code",
   "execution_count": 26,
   "metadata": {},
   "outputs": [
    {
     "name": "stdout",
     "output_type": "stream",
     "text": [
      "(384, 384, 19)\n",
      "(384, 384, 19)\n"
     ]
    }
   ],
   "source": [
    "image=sitk.ReadImage(registeredPath)\n",
    "print(image.GetSize())\n",
    "image=sitk.ReadImage(pathT2w)\n",
    "print(image.GetSize())"
   ]
  },
  {
   "cell_type": "code",
   "execution_count": 10,
   "metadata": {},
   "outputs": [
    {
     "ename": "<class 'AttributeError'>",
     "evalue": "module 'modules' has no attribute 'slicerelastixcli'",
     "output_type": "error",
     "traceback": [
      "\u001b[0;31m---------------------------------------------------------------------------\u001b[0m",
      "\u001b[0;31mAttributeError\u001b[0m                            Traceback (most recent call last)",
      "Input \u001b[0;32mIn [10]\u001b[0m, in \u001b[0;36m<cell line: 1>\u001b[0;34m()\u001b[0m\n\u001b[0;32m----> 1\u001b[0m node \u001b[38;5;241m=\u001b[39m slicer\u001b[38;5;241m.\u001b[39mcli\u001b[38;5;241m.\u001b[39mrunSync(slicer\u001b[38;5;241m.\u001b[39mmodules\u001b[38;5;241m.\u001b[39mslicerelastixcli)\n\u001b[1;32m      2\u001b[0m \u001b[38;5;28mprint\u001b[39m(node)\n",
      "\u001b[0;31mAttributeError\u001b[0m: module 'modules' has no attribute 'slicerelastixcli'"
     ]
    }
   ],
   "source": [
    "node = slicer.cli.runSync(slicer.modules.slicerelastixcli)\n",
    "print(node)"
   ]
  },
  {
   "cell_type": "code",
   "execution_count": 9,
   "metadata": {},
   "outputs": [
    {
     "data": {
      "text/plain": [
       "<module 'modules' from '/home/sliceruser/Slicer/bin/Python/slicer/__init__.py'>"
      ]
     },
     "execution_count": 9,
     "metadata": {},
     "output_type": "execute_result"
    }
   ],
   "source": [
    "slicer.modules"
   ]
  },
  {
   "cell_type": "code",
   "execution_count": 13,
   "metadata": {},
   "outputs": [
    {
     "data": {
      "text/plain": [
       "<Elastix.ElastixLogic at 0x7f1cfc9e20a0>"
      ]
     },
     "execution_count": 13,
     "metadata": {},
     "output_type": "execute_result"
    }
   ],
   "source": []
  },
  {
   "cell_type": "markdown",
   "metadata": {},
   "source": [
    "# PlayGround Spacing"
   ]
  },
  {
   "cell_type": "code",
   "execution_count": 47,
   "metadata": {},
   "outputs": [
    {
     "data": {
      "application/vnd.jupyter.widget-view+json": {
       "model_id": "99703e89eb954d929987b1896cfaccbb",
       "version_major": 2,
       "version_minor": 0
      },
      "text/plain": [
       "HTML(value='<a href=\"/desktop/\" target=\"_blank\">\\n<b>Click here</b> to open application window in a new browse…"
      ]
     },
     "metadata": {},
     "output_type": "display_data"
    }
   ],
   "source": [
    "import JupyterNotebooksLib as slicernb\n",
    "import slicer\n",
    "slicer.mrmlScene.Clear(False)\n",
    "# Load a Slicer sample data set\n",
    "import SimpleITK as sitk\n",
    "import sitkUtils\n",
    "from KevinSR import mask_interpolation, SOUP_GAN\n",
    "import os\n",
    "import numpy as np\n",
    "from scipy import ndimage, interpolate\n",
    "from scipy.ndimage import zoom\n",
    "from KevinSR import SOUP_GAN\n",
    "import monai\n",
    "import SimpleITK as sitk\n",
    "from copy import deepcopy\n",
    "import tensorflow as tf\n",
    "\n",
    "# Set viewer size to 50% of screen size\n",
    "slicernb.AppWindow.setWindowSize(scale=0.8)\n",
    "# Hide patient information from slice view\n",
    "slicernb.showSliceViewAnnotations(False)\n",
    "\n",
    "#slicernb.showVolumeRendering(volume, show=True)\n",
    "app = slicernb.AppWindow()\n",
    "app\n",
    "app.setContents(\"full\")\n",
    "slicer.util.selectModule(\"Data\")\n",
    "\n",
    "def displayy(path,Name):    \n",
    "    image=sitk.ReadImage(path)\n",
    "    outputVolumeNode = slicer.mrmlScene.AddNewNodeByClass(\"vtkMRMLScalarVolumeNode\", Name)\n",
    "    sitkUtils.PushVolumeToSlicer(image, outputVolumeNode)\n",
    "    \n",
    "def displayy_image(image,Name):    \n",
    "    outputVolumeNode = slicer.mrmlScene.AddNewNodeByClass(\"vtkMRMLScalarVolumeNode\", Name)\n",
    "    sitkUtils.PushVolumeToSlicer(image, outputVolumeNode)\n",
    "    \n",
    "import pandas as pd\n",
    "import SimpleITK as sitk\n",
    "\n",
    "df = pd.read_csv('/home/sliceruser/data/metadata/processedMetaData.csv')\n",
    "row= df.iloc[19]\n",
    "pathT2w= row['t2w']\n",
    "pathHbv= row['hbv']\n",
    "pathADC= row['adc']\n",
    "patht2wLabel= row['reSampledPath']\n",
    "    \n",
    "    \n",
    "\n",
    "from ipywidgets import HTML\n",
    "HTML(f\"\"\"<a href=\"{slicernb.AppWindow.defaultDesktopUrl()}\" target=\"_blank\">\n",
    "<b>Click here</b> to open application window in a new browser tab.</a>\"\"\")\n"
   ]
  },
  {
   "cell_type": "code",
   "execution_count": null,
   "metadata": {},
   "outputs": [],
   "source": [
    "def subsample(image,orig_spacing, targetSpacZ,origSize):\n",
    "    \"\"\"\n",
    "    perform subsampling to targetSpac\n",
    "    TODO() bicubic interpolation adapted from \n",
    "        https://itk.org/Doxygen/html/WikiExamples_2ImageProcessing_2Upsampling_8cxx-example.html\n",
    "        https://discourse.itk.org/t/resample-produces-blurry-results-when-just-cropping/4473/8\n",
    "    \"\"\" \n",
    "    resample = sitk.ResampleImageFilter()\n",
    "    resample.SetOutputSpacing(targetSpacZ)\n",
    "    resample.SetOutputDirection(image.GetDirection())\n",
    "    resample.SetOutputOrigin(image.GetOrigin())\n",
    "    resample.SetTransform(sitk.Transform())\n",
    "    resample.SetDefaultPixelValue(image.GetPixelIDValue())\n",
    "    resample.SetInterpolator(sitk.sitkBSpline)\n",
    "    \n",
    "    new_size = tuple([int(origSize[0]*(orig_spacing[0]/targetSpacZ[0])),\n",
    "                int(origSize[1]*(orig_spacing[1]/targetSpacZ[1])),\n",
    "                int(origSize[2]*(orig_spacing[2]/targetSpacZ[2]) )  ]  )\n",
    "    \n",
    "    print(f\"new_size {new_size}\")\n",
    "    resample.SetSize(new_size)\n",
    "\n",
    "    res = resample.Execute(image)\n",
    "    print(f\"subsampled {res.GetSize()}\")\n",
    "    return res \n",
    "\n",
    "def superSampleinZ(data, currentSpacZ, targetSpacZ):\n",
    "    \"\"\"\n",
    "    perform supersampling in Z direction\n",
    "    currentSpac, targetSpac - current and target z spacing - float numbers\n",
    "    \"\"\"\n",
    "    Z_FAC = currentSpacZ/targetSpacZ\n",
    "    thins_gen = SOUP_GAN(data, Z_FAC, 0)\n",
    "    return thins_gen\n"
   ]
  },
  {
   "cell_type": "code",
   "execution_count": 50,
   "metadata": {},
   "outputs": [
    {
     "name": "stdout",
     "output_type": "stream",
     "text": [
      "origSize (320, 320, 19)\n",
      "new_size (600, 600, 34)\n",
      "thicks_ori shape (19, 320, 320) \n"
     ]
    },
    {
     "name": "stderr",
     "output_type": "stream",
     "text": [
      "No training configuration found in save file, so the model was *not* compiled. Compile it manually.\n"
     ]
    },
    {
     "name": "stdout",
     "output_type": "stream",
     "text": [
      "1/1 [==============================] - 12s 12s/step\n",
      "thins_gen shape (19, 320, 600) \n",
      "(320, 600, 19)\n"
     ]
    }
   ],
   "source": [
    "import pandas as pd\n",
    "import SimpleITK as sitk\n",
    "from KevinSR import mask_interpolation, SOUP_GAN\n",
    "import os\n",
    "import numpy as np\n",
    "from scipy import ndimage, interpolate\n",
    "from scipy.ndimage import zoom\n",
    "from KevinSR import SOUP_GAN\n",
    "import monai\n",
    "import SimpleITK as sitk\n",
    "from copy import deepcopy\n",
    "import tensorflow as tf\n",
    "\n",
    "df = pd.read_csv('/home/sliceruser/data/metadata/processedMetaData.csv')\n",
    "row= df.iloc[19]\n",
    "pathT2w= row['t2w']\n",
    "pathsag= row['sag']\n",
    "\n",
    "pathHbv= row['hbv']\n",
    "pathADC= row['adc']\n",
    "patht2wLabel= row['reSampledPath']\n",
    "testImagePath = '/home/sliceruser/data/exploration/resampledd.mha'\n",
    "\n",
    "def copyDirAndOrigin(imageOrig,spacing,data):\n",
    "    image1 = sitk.GetImageFromArray(data)\n",
    "    image1.SetSpacing(spacing) #updating spacing\n",
    "    image1.SetOrigin(imageOrig.GetOrigin())\n",
    "    image1.SetDirection(imageOrig.GetDirection()) \n",
    "    print(image1.GetSize())\n",
    "    return image1\n",
    "\n",
    "\n",
    "\n",
    "\n",
    "#pathT2w,pathHbv,pathADC,patht2wLabel\n",
    "def testResample(path, nameToDisp,targetSpac):\n",
    "    imageOrig = sitk.ReadImage(path)\n",
    "    origSize= imageOrig.GetSize()\n",
    "    orig_spacing=imageOrig.GetSpacing()\n",
    "    print(f\"origSize {origSize}\")\n",
    "    new_size = tuple([int(origSize[0]*(orig_spacing[0]/targetSpac[0])),\n",
    "                    int(origSize[1]*(orig_spacing[1]/targetSpac[1])),\n",
    "                    int(origSize[2]*(orig_spacing[2]/targetSpac[2]) )  ]  )\n",
    "    print(f\"new_size {new_size}\")\n",
    "    anySuperSampled = False\n",
    "    data=sitk.GetArrayFromImage(imageOrig)\n",
    "    for axis in [0,1,2]:    \n",
    "    \n",
    "    #displayy(path,nameToDisp+\"_orig\")\n",
    "        if(new_size[axis]>origSize[axis]):\n",
    "            anySuperSampled=True\n",
    "            pre_slices = origSize[axis]\n",
    "            post_slices = new_size[axis]\n",
    "            Z_FAC = post_slices/pre_slices # Sampling factor in Z direction\n",
    "            if(axis==1):\n",
    "                data = np.moveaxis(data, 1, 2)\n",
    "            if(axis==2):\n",
    "                data = np.moveaxis(data, 0, 2)\n",
    "            #Call the SR interpolation tool from KevinSR\n",
    "            print(f\"thicks_ori shape {data.shape} \")\n",
    "\n",
    "            data = SOUP_GAN(data, Z_FAC,1)\n",
    "            print(f\"thins_gen shape {thins_gen.shape} \")\n",
    "            if(axis==1):\n",
    "                data = np.moveaxis(data, 2, 1)\n",
    "            if(axis==2):\n",
    "                data = np.moveaxis(data, 2, 0)            \n",
    "            \n",
    "\n",
    "            #image1=copyDirAndOrigin(imageOrig,(orig_spacing[0],targetSpac[1], orig_spacing[2]),thins_gen)\n",
    "            #displayy_image(image1,nameToDisp+\"_resampled\")\n",
    "    \n",
    "    \n",
    "    \n",
    "    return (imageOrig,image1)\n",
    "    \n",
    "    \n",
    "targetSpac=(0.3,0.3, 2)\n",
    "\n",
    "imageee= testResample(pathsag, \"sag\",targetSpac)"
   ]
  },
  {
   "cell_type": "code",
   "execution_count": null,
   "metadata": {},
   "outputs": [],
   "source": [
    "imageee"
   ]
  }
 ],
 "metadata": {
  "kernelspec": {
   "display_name": "Slicer 5.0",
   "language": "python",
   "name": "slicer-5.0"
  },
  "language_info": {
   "file_extension": ".py",
   "mimetype": "text/x-python",
   "name": "python",
   "version": "3.9.10"
  }
 },
 "nbformat": 4,
 "nbformat_minor": 4
}
