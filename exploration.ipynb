{
 "cells": [
  {
   "cell_type": "markdown",
   "metadata": {},
   "source": [
    "Displaying full slicer Viewer in separate tab"
   ]
  },
  {
   "cell_type": "code",
   "execution_count": 1,
   "metadata": {
    "collapsed": false,
    "jupyter": {
     "outputs_hidden": false
    },
    "pycharm": {
     "name": "#%%\n"
    },
    "vscode": {
     "languageId": "python"
    }
   },
   "outputs": [
    {
     "data": {
      "application/vnd.jupyter.widget-view+json": {
       "model_id": "0233b046b33d42bca2c369a7409b9653",
       "version_major": 2,
       "version_minor": 0
      },
      "text/plain": [
       "HTML(value='<a href=\"/desktop/\" target=\"_blank\">\\n<b>Click here</b> to open application window in a new browse…"
      ]
     },
     "metadata": {},
     "output_type": "display_data"
    }
   ],
   "source": [
    "import JupyterNotebooksLib as slicernb\n",
    "import slicer\n",
    "slicer.mrmlScene.Clear(False)\n",
    "# Load a Slicer sample data set\n",
    "import SampleData\n",
    "\n",
    "\n",
    "# Set viewer size to 50% of screen size\n",
    "slicernb.AppWindow.setWindowSize(scale=0.5)\n",
    "# Hide patient information from slice view\n",
    "slicernb.showSliceViewAnnotations(False)\n",
    "\n",
    "#slicernb.showVolumeRendering(volume, show=True)\n",
    "app = slicernb.AppWindow()\n",
    "app\n",
    "app.setContents(\"full\")\n",
    "slicer.util.selectModule(\"Data\")\n",
    "from ipywidgets import HTML\n",
    "HTML(f\"\"\"<a href=\"{slicernb.AppWindow.defaultDesktopUrl()}\" target=\"_blank\">\n",
    "<b>Click here</b> to open application window in a new browser tab.</a>\"\"\")"
   ]
  },
  {
   "cell_type": "code",
   "execution_count": 2,
   "metadata": {
    "collapsed": false,
    "jupyter": {
     "outputs_hidden": false
    },
    "pycharm": {
     "name": "#%%\n"
    },
    "vscode": {
     "languageId": "python"
    }
   },
   "outputs": [],
   "source": [
    "\n",
    "#numbEnd=43;32; 40\n",
    "numbEnd=19\n",
    "# volume = slicer.util.loadVolume(f'/home/sliceruser/data/100{numbEnd}/100{numbEnd}_10000{numbEnd}_adc.mha')\n",
    "# volume = slicer.util.loadVolume(f'/home/sliceruser/data/100{numbEnd}/100{numbEnd}_10000{numbEnd}_cor.mha')\n",
    "# volume = slicer.util.loadVolume(f'/home/sliceruser/data/100{numbEnd}/100{numbEnd}_10000{numbEnd}_hbv.mha')\n",
    "# volume = slicer.util.loadVolume(f'/home/sliceruser/data/100{numbEnd}/100{numbEnd}_10000{numbEnd}_sag.mha')\n",
    "volume = slicer.util.loadVolume(f'/home/sliceruser/data/100{numbEnd}/100{numbEnd}_10000{numbEnd}_t2w.mha')\n",
    "#originalLabel= slicer.util.loadSegmentation(f'/home/sliceruser/labels/csPCa_lesion_delineations/human_expert/original/100{numbEnd}_10000{numbEnd}.nii.gz')\n",
    "resampledLabel= slicer.util.loadSegmentation(f'/home/sliceruser/labels/csPCa_lesion_delineations/human_expert/resampled/100{numbEnd}_10000{numbEnd}.nii.gz')"
   ]
  },
  {
   "cell_type": "code",
   "execution_count": null,
   "metadata": {
    "vscode": {
     "languageId": "python"
    }
   },
   "outputs": [],
   "source": [
    "#show from itk \n",
    "https://slicer.readthedocs.io/en/latest/developer_guide/script_repository.html?highlight=sitk#running-an-itk-filter-in-python-using-simpleitk"
   ]
  },
  {
   "cell_type": "code",
   "execution_count": 3,
   "metadata": {
    "vscode": {
     "languageId": "python"
    }
   },
   "outputs": [],
   "source": []
  },
  {
   "cell_type": "code",
   "execution_count": null,
   "metadata": {
    "vscode": {
     "languageId": "python"
    }
   },
   "outputs": [],
   "source": []
  }
 ],
 "metadata": {
  "kernelspec": {
   "display_name": "Slicer 5.0",
   "language": "python",
   "name": "slicer-5.0"
  },
  "language_info": {
   "file_extension": ".py",
   "mimetype": "text/x-python",
   "name": "python",
   "version": "3.9.10"
  }
 },
 "nbformat": 4,
 "nbformat_minor": 4
}
