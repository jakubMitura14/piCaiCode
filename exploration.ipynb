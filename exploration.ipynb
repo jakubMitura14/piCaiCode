{
 "cells": [
  {
   "cell_type": "markdown",
   "metadata": {},
   "source": [
    "Displaying full slicer Viewer in separate tab"
   ]
  },
  {
   "cell_type": "code",
   "execution_count": 1,
   "metadata": {
    "collapsed": false,
    "jupyter": {
     "outputs_hidden": false
    },
    "pycharm": {
     "name": "#%%\n"
    }
   },
   "outputs": [
    {
     "data": {
      "application/vnd.jupyter.widget-view+json": {
       "model_id": "5700f22606c343c087abce35c8dd60e2",
       "version_major": 2,
       "version_minor": 0
      },
      "text/plain": [
       "HTML(value='<a href=\"/desktop/\" target=\"_blank\">\\n<b>Click here</b> to open application window in a new browse…"
      ]
     },
     "metadata": {},
     "output_type": "display_data"
    }
   ],
   "source": [
    "import JupyterNotebooksLib as slicernb\n",
    "import slicer\n",
    "slicer.mrmlScene.Clear(False)\n",
    "# Load a Slicer sample data set\n",
    "import SampleData\n",
    "\n",
    "\n",
    "# Set viewer size to 50% of screen size\n",
    "slicernb.AppWindow.setWindowSize(scale=0.5)\n",
    "# Hide patient information from slice view\n",
    "slicernb.showSliceViewAnnotations(False)\n",
    "\n",
    "#slicernb.showVolumeRendering(volume, show=True)\n",
    "app = slicernb.AppWindow()\n",
    "app\n",
    "app.setContents(\"full\")\n",
    "slicer.util.selectModule(\"Data\")\n",
    "from ipywidgets import HTML\n",
    "HTML(f\"\"\"<a href=\"{slicernb.AppWindow.defaultDesktopUrl()}\" target=\"_blank\">\n",
    "<b>Click here</b> to open application window in a new browser tab.</a>\"\"\")"
   ]
  },
  {
   "cell_type": "code",
   "execution_count": 2,
   "metadata": {
    "collapsed": false,
    "jupyter": {
     "outputs_hidden": false
    },
    "pycharm": {
     "name": "#%%\n"
    }
   },
   "outputs": [],
   "source": [
    "\n",
    "#numbEnd=43;32; 40\n",
    "numbEnd=19\n",
    "# volume = slicer.util.loadVolume(f'/home/sliceruser/data/100{numbEnd}/100{numbEnd}_10000{numbEnd}_adc.mha')\n",
    "# volume = slicer.util.loadVolume(f'/home/sliceruser/data/100{numbEnd}/100{numbEnd}_10000{numbEnd}_cor.mha')\n",
    "# volume = slicer.util.loadVolume(f'/home/sliceruser/data/100{numbEnd}/100{numbEnd}_10000{numbEnd}_hbv.mha')\n",
    "# volume = slicer.util.loadVolume(f'/home/sliceruser/data/100{numbEnd}/100{numbEnd}_10000{numbEnd}_sag.mha')\n",
    "volume = slicer.util.loadVolume(f'/home/sliceruser/data/100{numbEnd}/100{numbEnd}_10000{numbEnd}_t2w.mha')\n",
    "#originalLabel= slicer.util.loadSegmentation(f'/home/sliceruser/labels/csPCa_lesion_delineations/human_expert/original/100{numbEnd}_10000{numbEnd}.nii.gz')\n",
    "resampledLabel= slicer.util.loadSegmentation(f'/home/sliceruser/labels/csPCa_lesion_delineations/human_expert/resampled/100{numbEnd}_10000{numbEnd}.nii.gz')"
   ]
  },
  {
   "cell_type": "code",
   "execution_count": null,
   "metadata": {},
   "outputs": [],
   "source": [
    "#show from itk \n",
    "#https://slicer.readthedocs.io/en/latest/developer_guide/script_repository.html?highlight=sitk#running-an-itk-filter-in-python-using-simpleitk"
   ]
  },
  {
   "cell_type": "code",
   "execution_count": 3,
   "metadata": {},
   "outputs": [],
   "source": [
    "\n",
    "imagee\n"
   ]
  },
  {
   "cell_type": "code",
   "execution_count": 11,
   "metadata": {},
   "outputs": [
    {
     "data": {
      "text/plain": [
       "<MRMLCore.vtkMRMLScalarVolumeNode(0xe383c20) at 0x7fb96b0cf9a0>"
      ]
     },
     "execution_count": 11,
     "metadata": {},
     "output_type": "execute_result"
    }
   ],
   "source": [
    "import JupyterNotebooksLib as slicernb\n",
    "import sitkUtils\n",
    "import slicer\n",
    "import pandas as pd\n",
    "import torch\n",
    "import pandas as pd\n",
    "import numpy as np\n",
    "import torchio as tio\n",
    "from torch.utils.data import DataLoader\n",
    "import os\n",
    "import SimpleITK as sitk\n",
    "from zipfile import ZipFile\n",
    "from zipfile import BadZipFile\n",
    "import dask.dataframe as dd\n",
    "import os\n",
    "import multiprocessing as mp\n",
    "import functools\n",
    "from functools import partial\n",
    "import preprocessing.Standardize as Standardize\n",
    "\n",
    "df = pd.read_csv('/home/sliceruser/data/metadata/processedMetaData.csv')\n",
    "path=df['adc'].to_numpy()[50]\n",
    "image=sitk.ReadImage(path)\n",
    "imageB=Standardize.removeOutliersBiasFieldCorrect(path)\n",
    "outputVolumeNode = slicer.mrmlScene.AddNewNodeByClass(\"vtkMRMLScalarVolumeNode\", \"f\")\n",
    "sitkUtils.PushVolumeToSlicer(imageB, outputVolumeNode)"
   ]
  },
  {
   "cell_type": "code",
   "execution_count": 14,
   "metadata": {},
   "outputs": [
    {
     "data": {
      "text/plain": [
       "array([ 1.        , 61.21375865, 64.7723805 , 67.79212988, 70.38931772,\n",
       "       72.68893844, 75.07817142, 77.49362605, 80.70655573, 86.00811824,\n",
       "       99.        ])"
      ]
     },
     "execution_count": 14,
     "metadata": {},
     "output_type": "execute_result"
    }
   ],
   "source": [
    "from os.path import isdir,join,exists,split,dirname,basename\n",
    "seriesString= \"t2w\"\n",
    "trainedModelsBasicPath='/home/sliceruser/data/preprocess/standarizationModels'\n",
    "trainedModel=join(trainedModelsBasicPath,'trained_model'+seriesString+'.npz')\n",
    "f = np.load(trainedModel, allow_pickle=True)\n",
    "Model = f['trainedModel'].all()\n",
    "meanLandmarks = Model['meanLandmarks']\n",
    "meanLandmarks"
   ]
  },
  {
   "cell_type": "code",
   "execution_count": 15,
   "metadata": {},
   "outputs": [
    {
     "data": {
      "text/plain": [
       "<MRMLCore.vtkMRMLScalarVolumeNode(0xe7d4550) at 0x7fbb485f9be0>"
      ]
     },
     "execution_count": 15,
     "metadata": {},
     "output_type": "execute_result"
    }
   ],
   "source": [
    "imagC= Standardize.transform(imageB,meanLandmarks=meanLandmarks)\n",
    "outputVolumeNode = slicer.mrmlScene.AddNewNodeByClass(\"vtkMRMLScalarVolumeNode\", \"g\")\n",
    "sitkUtils.PushVolumeToSlicer(imagC, outputVolumeNode)"
   ]
  },
  {
   "cell_type": "code",
   "execution_count": null,
   "metadata": {},
   "outputs": [],
   "source": []
  }
 ],
 "metadata": {
  "kernelspec": {
   "display_name": "Slicer 5.0",
   "language": "python",
   "name": "slicer-5.0"
  },
  "language_info": {
   "file_extension": ".py",
   "mimetype": "text/x-python",
   "name": "python",
   "version": "3.9.10"
  }
 },
 "nbformat": 4,
 "nbformat_minor": 4
}
