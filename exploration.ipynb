{
 "cells": [
  {
   "cell_type": "markdown",
   "metadata": {},
   "source": [
    "Displaying full slicer Viewer in separate tab"
   ]
  },
  {
   "cell_type": "code",
   "execution_count": 33,
   "metadata": {
    "collapsed": false,
    "jupyter": {
     "outputs_hidden": false
    },
    "pycharm": {
     "name": "#%%\n"
    }
   },
   "outputs": [
    {
     "data": {
      "application/vnd.jupyter.widget-view+json": {
       "model_id": "7dd7d066fef5436c9d57a80fbc01fe7f",
       "version_major": 2,
       "version_minor": 0
      },
      "text/plain": [
       "HTML(value='<a href=\"/desktop/\" target=\"_blank\">\\n<b>Click here</b> to open application window in a new browse…"
      ]
     },
     "metadata": {},
     "output_type": "display_data"
    }
   ],
   "source": [
    "import JupyterNotebooksLib as slicernb\n",
    "import slicer\n",
    "slicer.mrmlScene.Clear(False)\n",
    "# Load a Slicer sample data set\n",
    "import SampleData\n",
    "import SimpleITK as sitk\n",
    "import sitkUtils\n",
    "\n",
    "# Set viewer size to 50% of screen size\n",
    "slicernb.AppWindow.setWindowSize(scale=0.5)\n",
    "# Hide patient information from slice view\n",
    "slicernb.showSliceViewAnnotations(False)\n",
    "\n",
    "#slicernb.showVolumeRendering(volume, show=True)\n",
    "app = slicernb.AppWindow()\n",
    "app\n",
    "app.setContents(\"full\")\n",
    "slicer.util.selectModule(\"Data\")\n",
    "from ipywidgets import HTML\n",
    "HTML(f\"\"\"<a href=\"{slicernb.AppWindow.defaultDesktopUrl()}\" target=\"_blank\">\n",
    "<b>Click here</b> to open application window in a new browser tab.</a>\"\"\")"
   ]
  },
  {
   "cell_type": "code",
   "execution_count": 20,
   "metadata": {},
   "outputs": [],
   "source": [
    "def displayy(path,Name):    \n",
    "    image=sitk.ReadImage(path)\n",
    "    outputVolumeNode = slicer.mrmlScene.AddNewNodeByClass(\"vtkMRMLScalarVolumeNode\", Name)\n",
    "    sitkUtils.PushVolumeToSlicer(image, outputVolumeNode)"
   ]
  },
  {
   "cell_type": "code",
   "execution_count": 35,
   "metadata": {},
   "outputs": [],
   "source": [
    "import pandas as pd\n",
    "import SimpleITK as sitk\n",
    "\n",
    "df = pd.read_csv('/home/sliceruser/data/metadata/processedMetaData.csv')\n",
    "row= df.iloc[19]\n",
    "pathT2w= row['t2w']\n",
    "pathHbv= row['hbv']\n",
    "pathADC= row['adc']\n",
    "patht2wLabel= row['reSampledPath']\n",
    "\n",
    "registeredPath = '/home/sliceruser/data/exploration/result.0.mha'\n",
    "\n",
    "def displayy(path,Name):    \n",
    "    image=sitk.ReadImage(path)\n",
    "    outputVolumeNode = slicer.mrmlScene.AddNewNodeByClass(\"vtkMRMLScalarVolumeNode\", Name)\n",
    "    sitkUtils.PushVolumeToSlicer(image, outputVolumeNode)\n",
    "    \n",
    "displayy(pathT2w,'t2w')    \n",
    "displayy(pathHbv,'origHbv')    \n",
    "displayy(registeredPath,'registeredHbv')    \n"
   ]
  },
  {
   "cell_type": "code",
   "execution_count": 18,
   "metadata": {},
   "outputs": [],
   "source": [
    "# path ='/home/sliceruser/data/orig/10001/10001_1000001_hbv_bf_corr.mha'\n",
    "testImagePath = '/home/sliceruser/data/exploration/resampleddB.nii.gz'\n",
    "origPath ='/home/sliceruser/data/orig/10019/10019_1000019_t2w.mha'\n",
    "testImagePathB = '/home/sliceruser/data/exploration/resampledd_itk.nii.gz'\n",
    "\n",
    "displayy(testImagePath,\"my_resampled\")\n",
    "displayy(testImagePathB,\"itk_resampled\")\n",
    "displayy(origPath,\"original\")"
   ]
  },
  {
   "cell_type": "code",
   "execution_count": 7,
   "metadata": {},
   "outputs": [],
   "source": [
    "a='/home/sliceruser/data/Unires/ur_10019_1000019_adc.nii.gz'\n",
    "b='/home/sliceruser/data/Unires/ur_10019_1000019_cor.nii.gz'\n",
    "c='/home/sliceruser/data/Unires/ur_10019_1000019_hbv.nii.gz'\n",
    "d='/home/sliceruser/data/Unires/ur_10019_1000019_sag.nii.gz'\n",
    "e='/home/sliceruser/data/Unires/ur_10019_1000019_t2w.nii.gz'\n",
    "\n",
    "\n",
    "def displayy(path,Name):    \n",
    "    image=sitk.ReadImage(path)\n",
    "    outputVolumeNode = slicer.mrmlScene.AddNewNodeByClass(\"vtkMRMLScalarVolumeNode\", Name)\n",
    "    sitkUtils.PushVolumeToSlicer(image, outputVolumeNode)\n",
    "    \n",
    "displayy(a,'adc')\n",
    "displayy(b,'cor')\n",
    "displayy(c,'hbv')\n",
    "displayy(d,'sag')\n",
    "displayy(e,'t2w')\n",
    "\n",
    "    "
   ]
  },
  {
   "cell_type": "code",
   "execution_count": 22,
   "metadata": {},
   "outputs": [
    {
     "name": "stderr",
     "output_type": "stream",
     "text": [
      "/tmp/xpython_1235/2858738171.py:8: SettingWithCopyWarning: \n",
      "A value is trying to be set on a copy of a slice from a DataFrame\n",
      "\n",
      "See the caveats in the documentation: https://pandas.pydata.org/pandas-docs/stable/user_guide/indexing.html#returning-a-view-versus-a-copy\n",
      "  pathADC= row['adc']= row['adc']\n"
     ]
    }
   ],
   "source": [
    "import pandas as pd\n",
    "import SimpleITK as sitk\n",
    "\n",
    "df = pd.read_csv('/home/sliceruser/data/metadata/processedMetaData.csv')\n",
    "row= df.iloc[19]\n",
    "pathT2w= row['t2w']\n",
    "pathHbv= row['hbv']\n",
    "pathADC= row['adc']= row['adc']\n",
    "patht2wLabel= row['reSampledPath']\n",
    "\n",
    "def displayy(path,Name):    \n",
    "    image=sitk.ReadImage(path)\n",
    "    outputVolumeNode = slicer.mrmlScene.AddNewNodeByClass(\"vtkMRMLScalarVolumeNode\", Name)\n",
    "    sitkUtils.PushVolumeToSlicer(image, outputVolumeNode)\n",
    "    \n",
    "displayy(pathT2w,\"t2w\")    \n",
    "displayy(pathHbv,\"hbv\")    \n",
    "displayy(pathADC,\"adc\")    \n",
    "displayy(patht2wLabel,\"label\")    \n"
   ]
  },
  {
   "cell_type": "code",
   "execution_count": null,
   "metadata": {},
   "outputs": [],
   "source": []
  },
  {
   "cell_type": "code",
   "execution_count": 26,
   "metadata": {},
   "outputs": [
    {
     "name": "stdout",
     "output_type": "stream",
     "text": [
      "(384, 384, 19)\n",
      "(384, 384, 19)\n"
     ]
    }
   ],
   "source": [
    "image=sitk.ReadImage(registeredPath)\n",
    "print(image.GetSize())\n",
    "image=sitk.ReadImage(pathT2w)\n",
    "print(image.GetSize())"
   ]
  },
  {
   "cell_type": "code",
   "execution_count": 10,
   "metadata": {},
   "outputs": [
    {
     "ename": "<class 'AttributeError'>",
     "evalue": "module 'modules' has no attribute 'slicerelastixcli'",
     "output_type": "error",
     "traceback": [
      "\u001b[0;31m---------------------------------------------------------------------------\u001b[0m",
      "\u001b[0;31mAttributeError\u001b[0m                            Traceback (most recent call last)",
      "Input \u001b[0;32mIn [10]\u001b[0m, in \u001b[0;36m<cell line: 1>\u001b[0;34m()\u001b[0m\n\u001b[0;32m----> 1\u001b[0m node \u001b[38;5;241m=\u001b[39m slicer\u001b[38;5;241m.\u001b[39mcli\u001b[38;5;241m.\u001b[39mrunSync(slicer\u001b[38;5;241m.\u001b[39mmodules\u001b[38;5;241m.\u001b[39mslicerelastixcli)\n\u001b[1;32m      2\u001b[0m \u001b[38;5;28mprint\u001b[39m(node)\n",
      "\u001b[0;31mAttributeError\u001b[0m: module 'modules' has no attribute 'slicerelastixcli'"
     ]
    }
   ],
   "source": [
    "node = slicer.cli.runSync(slicer.modules.slicerelastixcli)\n",
    "print(node)"
   ]
  },
  {
   "cell_type": "code",
   "execution_count": 9,
   "metadata": {},
   "outputs": [
    {
     "data": {
      "text/plain": [
       "<module 'modules' from '/home/sliceruser/Slicer/bin/Python/slicer/__init__.py'>"
      ]
     },
     "execution_count": 9,
     "metadata": {},
     "output_type": "execute_result"
    }
   ],
   "source": [
    "slicer.modules"
   ]
  },
  {
   "cell_type": "code",
   "execution_count": 13,
   "metadata": {},
   "outputs": [
    {
     "data": {
      "text/plain": [
       "<Elastix.ElastixLogic at 0x7f1cfc9e20a0>"
      ]
     },
     "execution_count": 13,
     "metadata": {},
     "output_type": "execute_result"
    }
   ],
   "source": []
  },
  {
   "cell_type": "code",
   "execution_count": 18,
   "metadata": {},
   "outputs": [
    {
     "name": "stdout",
     "output_type": "stream",
     "text": [
      "/home/sliceruser/data/orig/10019/10019_1000019_t2w.mha\n",
      "/home/sliceruser/data/orig/10019/10019_1000019_hbv.mha\n",
      "/home/sliceruser/data/exploration/resampleddB.nii.gz\n"
     ]
    }
   ],
   "source": [
    "import pandas as pd\n",
    "import SimpleITK as sitk\n",
    "\n",
    "df = pd.read_csv('/home/sliceruser/data/metadata/processedMetaData.csv')\n",
    "row= df.iloc[19]\n",
    "pathT2w= row['t2w']\n",
    "pathHbv= row['hbv']\n",
    "pathADC= row['adc']\n",
    "patht2wLabel= row['reSampledPath']\n",
    "outputPath= '/home/sliceruser/data/exploration/outt.mha'\n",
    "#as in https://discourse.slicer.org/t/accessing-slicerelastix-from-within-python-module/9410/5\n",
    "# import Elastix\n",
    "# elastixLogic = Elastix.ElastixLogic()\n",
    "# parameterFilenames = elastixLogic.getRegistrationPresets()[0][Elastix.RegistrationPresets_ParameterFilenames]\n",
    "# fixedVolume=pathT2w\n",
    "# movingVolume=pathHbv\n",
    "# outputVol = slicer.mrmlScene.AddNewNodeByClass(\"vtkMRMLScalarVolumeNode\", \" output elastix \")\n",
    "# outputTransform = slicer.mrmlScene.AddNewNodeByClass(\"vtkMRMLTransformNode\")\n",
    "\n",
    "# elastixLogic.registerVolumes(\n",
    "# fixedVolume, movingVolume,\n",
    "# outputVolumeNode = outputVol,\n",
    "# parameterFilenames = parameterFilenames,\n",
    "# outputTransformNode = outputTransform\n",
    "#)\n",
    "print(pathT2w)\n",
    "print(pathHbv)\n",
    "print(outputPath)"
   ]
  },
  {
   "cell_type": "code",
   "execution_count": null,
   "metadata": {},
   "outputs": [],
   "source": []
  }
 ],
 "metadata": {
  "kernelspec": {
   "display_name": "Slicer 5.0",
   "language": "python",
   "name": "slicer-5.0"
  },
  "language_info": {
   "file_extension": ".py",
   "mimetype": "text/x-python",
   "name": "python",
   "version": "3.9.10"
  }
 },
 "nbformat": 4,
 "nbformat_minor": 4
}
