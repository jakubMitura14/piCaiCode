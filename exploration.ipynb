{
 "cells": [
  {
   "cell_type": "markdown",
   "metadata": {},
   "source": [
    "Displaying full slicer Viewer in separate tab"
   ]
  },
  {
   "cell_type": "code",
   "execution_count": 1,
   "metadata": {
    "collapsed": false,
    "jupyter": {
     "outputs_hidden": false
    },
    "pycharm": {
     "name": "#%%\n"
    }
   },
   "outputs": [
    {
     "data": {
      "application/vnd.jupyter.widget-view+json": {
       "model_id": "1a54a000bea646d393b1d268aea8c87c",
       "version_major": 2,
       "version_minor": 0
      },
      "text/plain": [
       "HTML(value='<a href=\"/desktop/\" target=\"_blank\">\\n<b>Click here</b> to open application window in a new browse…"
      ]
     },
     "metadata": {},
     "output_type": "display_data"
    }
   ],
   "source": [
    "import JupyterNotebooksLib as slicernb\n",
    "import slicer\n",
    "slicer.mrmlScene.Clear(False)\n",
    "# Load a Slicer sample data set\n",
    "import SampleData\n",
    "\n",
    "\n",
    "# Set viewer size to 50% of screen size\n",
    "slicernb.AppWindow.setWindowSize(scale=0.5)\n",
    "# Hide patient information from slice view\n",
    "slicernb.showSliceViewAnnotations(False)\n",
    "\n",
    "#slicernb.showVolumeRendering(volume, show=True)\n",
    "app = slicernb.AppWindow()\n",
    "app\n",
    "app.setContents(\"full\")\n",
    "slicer.util.selectModule(\"Data\")\n",
    "from ipywidgets import HTML\n",
    "HTML(f\"\"\"<a href=\"{slicernb.AppWindow.defaultDesktopUrl()}\" target=\"_blank\">\n",
    "<b>Click here</b> to open application window in a new browser tab.</a>\"\"\")"
   ]
  },
  {
   "cell_type": "code",
   "execution_count": 2,
   "metadata": {
    "collapsed": false,
    "jupyter": {
     "outputs_hidden": false
    },
    "pycharm": {
     "name": "#%%\n"
    }
   },
   "outputs": [],
   "source": [
    "\n",
    "# #numbEnd=43;32; 40\n",
    "# numbEnd=19\n",
    "# # volume = slicer.util.loadVolume(f'/home/sliceruser/data/100{numbEnd}/100{numbEnd}_10000{numbEnd}_adc.mha')\n",
    "# # volume = slicer.util.loadVolume(f'/home/sliceruser/data/100{numbEnd}/100{numbEnd}_10000{numbEnd}_cor.mha')\n",
    "# # volume = slicer.util.loadVolume(f'/home/sliceruser/data/100{numbEnd}/100{numbEnd}_10000{numbEnd}_hbv.mha')\n",
    "# # volume = slicer.util.loadVolume(f'/home/sliceruser/data/100{numbEnd}/100{numbEnd}_10000{numbEnd}_sag.mha')\n",
    "# volume = slicer.util.loadVolume(f'/home/sliceruser/data/100{numbEnd}/100{numbEnd}_10000{numbEnd}_t2w.mha')\n",
    "# #originalLabel= slicer.util.loadSegmentation(f'/home/sliceruser/labels/csPCa_lesion_delineations/human_expert/original/100{numbEnd}_10000{numbEnd}.nii.gz')\n",
    "# resampledLabel= slicer.util.loadSegmentation(f'/home/sliceruser/labels/csPCa_lesion_delineations/human_expert/resampled/100{numbEnd}_10000{numbEnd}.nii.gz')"
   ]
  },
  {
   "cell_type": "code",
   "execution_count": 3,
   "metadata": {},
   "outputs": [],
   "source": [
    "#show from itk \n",
    "#https://slicer.readthedocs.io/en/latest/developer_guide/script_repository.html?highlight=sitk#running-an-itk-filter-in-python-using-simpleitk"
   ]
  },
  {
   "cell_type": "code",
   "execution_count": 4,
   "metadata": {},
   "outputs": [],
   "source": [
    "import JupyterNotebooksLib as slicernb\n",
    "import sitkUtils\n",
    "import slicer\n",
    "import pandas as pd\n",
    "import torch\n",
    "import pandas as pd\n",
    "import numpy as np\n",
    "import torchio as tio\n",
    "from torch.utils.data import DataLoader\n",
    "import os\n",
    "import SimpleITK as sitk\n",
    "from zipfile import ZipFile\n",
    "from zipfile import BadZipFile\n",
    "import dask.dataframe as dd\n",
    "import os\n",
    "import multiprocessing as mp\n",
    "import functools\n",
    "from functools import partial\n",
    "import preprocessing.Standardize as Standardize\n",
    "\n"
   ]
  },
  {
   "cell_type": "code",
   "execution_count": 5,
   "metadata": {},
   "outputs": [],
   "source": [
    "df = pd.read_csv('/home/sliceruser/data/metadata/processedMetaData.csv')\n",
    "path=df['t2w'].to_numpy()[50]\n",
    "image=sitk.ReadImage(path)\n",
    "imageB=image\n",
    "#imageB=Standardize.removeOutliersBiasFieldCorrect(path)"
   ]
  },
  {
   "cell_type": "code",
   "execution_count": 6,
   "metadata": {},
   "outputs": [
    {
     "data": {
      "text/plain": [
       "<MRMLCore.vtkMRMLScalarVolumeNode(0xd8cc120) at 0x7f15dea2f220>"
      ]
     },
     "execution_count": 6,
     "metadata": {},
     "output_type": "execute_result"
    }
   ],
   "source": [
    "outputVolumeNode = slicer.mrmlScene.AddNewNodeByClass(\"vtkMRMLScalarVolumeNode\", \"g\")\n",
    "sitkUtils.PushVolumeToSlicer(imageB, outputVolumeNode)"
   ]
  },
  {
   "cell_type": "code",
   "execution_count": 7,
   "metadata": {},
   "outputs": [
    {
     "data": {
      "text/plain": [
       "(0.30000001192093, 0.30000001192093, 3.599999982249094)"
      ]
     },
     "execution_count": 7,
     "metadata": {},
     "output_type": "execute_result"
    }
   ],
   "source": [
    "imageB.GetSpacing()"
   ]
  },
  {
   "cell_type": "code",
   "execution_count": null,
   "metadata": {},
   "outputs": [
    {
     "name": "stdout",
     "output_type": "stream",
     "text": [
      "['/home/sliceruser/data/orig/10000/10000_1000000_t2w.mha', '/home/sliceruser/data/orig/10001/10001_1000001_t2w.mha', '/home/sliceruser/data/orig/10002/10002_1000002_t2w.mha', '/home/sliceruser/data/orig/10003/10003_1000003_t2w.mha', '/home/sliceruser/data/orig/10004/10004_1000004_t2w.mha', '/home/sliceruser/data/orig/10005/10005_1000005_t2w.mha', '/home/sliceruser/data/orig/10006/10006_1000006_t2w.mha', '/home/sliceruser/data/orig/10007/10007_1000007_t2w.mha', '/home/sliceruser/data/orig/10008/10008_1000008_t2w.mha', '/home/sliceruser/data/orig/10009/10009_1000009_t2w.mha']\n",
      "fitting normalizer\n",
      "Loading data\n",
      "Fitting\n"
     ]
    }
   ],
   "source": [
    "from intensity_normalization.normalize.nyul import NyulNormalize\n",
    "from intensity_normalization.typing import Modality\n",
    "#train_patientsPaths=df['t2w'].dropna().to_numpy()[90:100]\n",
    "Standardize.iterateAndStandardize('t2w',10, df)"
   ]
  },
  {
   "cell_type": "code",
   "execution_count": null,
   "metadata": {},
   "outputs": [],
   "source": [
    "# from os.path import isdir,join,exists,split,dirname,basename\n",
    "# seriesString= \"t2w\"\n",
    "# trainedModelsBasicPath='/home/sliceruser/data/preprocess/standarizationModels'\n",
    "# trainedModel=join(trainedModelsBasicPath,'trained_model'+seriesString+'.npz')\n",
    "# f = np.load(trainedModel, allow_pickle=True)\n",
    "# Model = f['trainedModel'].all()\n",
    "# meanLandmarks = Model['meanLandmarks']\n",
    "# meanLandmarks"
   ]
  },
  {
   "cell_type": "code",
   "execution_count": null,
   "metadata": {},
   "outputs": [],
   "source": [
    "# imagC= Standardize.transform(imageB,meanLandmarks=meanLandmarks)\n",
    "# outputVolumeNode = slicer.mrmlScene.AddNewNodeByClass(\"vtkMRMLScalarVolumeNode\", \"g\")\n",
    "# sitkUtils.PushVolumeToSlicer(imagC, outputVolumeNode)"
   ]
  },
  {
   "cell_type": "code",
   "execution_count": null,
   "metadata": {},
   "outputs": [],
   "source": [
    "# import pymedio.image as mioi\n",
    "# import nibabel as nib\n",
    "\n",
    "# from intensity_normalization.normalize.nyul import NyulNormalize\n",
    "# numRows=10\n",
    "# train_patientsPaths=df['t2w'].dropna().to_numpy()[90:100]\n",
    "# image_paths=list(filter(lambda path: len(path)>2 ,train_patientsPaths))\n",
    "# image_paths"
   ]
  },
  {
   "cell_type": "code",
   "execution_count": null,
   "metadata": {},
   "outputs": [],
   "source": [
    "# #images = [nib.load(image_path).get_fdata() for image_path in image_paths]\n",
    "# images = [sitk.GetArrayFromImage(sitk.ReadImage(image_path)) for image_path in image_paths]\n",
    "# list(map(lambda im: im.shape,images))"
   ]
  },
  {
   "cell_type": "code",
   "execution_count": null,
   "metadata": {},
   "outputs": [],
   "source": [
    "# from intensity_normalization.typing import Modality\n",
    "# nyul_normalizer.fit(images,modality=Modality.T2)\n",
    "# normalized = [nyul_normalizer(image) for image in images]\n",
    "# nyul_normalizer.save_standard_histogram(\"standard_histogram.npy\")"
   ]
  },
  {
   "cell_type": "markdown",
   "metadata": {},
   "source": [
    "cd externalRepos/uniRes\n",
    "pip install .\n",
    "NI_COMPILED_BACKEND=\"C\" pip install --no-build-isolation .\n",
    "\n",
    "\n",
    "\n",
    "\n"
   ]
  },
  {
   "cell_type": "code",
   "execution_count": null,
   "metadata": {},
   "outputs": [],
   "source": [
    "# unires exects nifti files\n",
    "\n",
    "# dwi_writer->SetFileName(\"test.nii.gz\");\n"
   ]
  },
  {
   "cell_type": "code",
   "execution_count": null,
   "metadata": {},
   "outputs": [],
   "source": [
    "# from unires.struct import settings as s\n",
    "\n",
    "\n",
    "\n",
    "# s.label = ('label.nii.gz', (0, 0))\n",
    "\n",
    "\n",
    "#  # _preproc(pth, atlas_rigid, common_output, device, dir_out, fov, label_file,\n",
    "#  #             label_channel_index, label_repeat_index, linear, plot_conv, prefix,\n",
    "#  #             print_info, reg_scl, res_origin, scale, sched, show_hyperpar, show_jtv,\n",
    "#  #             tolerance, unified_rigid, vx, write_out, ct, crop)\n",
    "\n",
    "\n",
    "#     # Init UniRes\n",
    "#     x, y, sett = init(data, sett)\n",
    "\n",
    "#     # Fit UniRes\n",
    "#     dat_y, mat_y, pth_y, _, _, _ = fit(x, y, sett)\n",
    "\n",
    "\n",
    "    \n",
    "#     data : (list): Path(s) to data, e.g:\n",
    "#             [*/T1.nii, */T2.nii, ...]\n",
    "#             or if multiple repeats:\n",
    "#             [[*/T1_1.nii, */T1_2.nii, ...],\n",
    "#              [*/T2_1.nii, */T2_2.nii, ...], ...]\n",
    "            \n",
    "            \n",
    "    "
   ]
  }
 ],
 "metadata": {
  "kernelspec": {
   "display_name": "Slicer 5.0",
   "language": "python",
   "name": "slicer-5.0"
  },
  "language_info": {
   "file_extension": ".py",
   "mimetype": "text/x-python",
   "name": "python",
   "version": "3.9.10"
  }
 },
 "nbformat": 4,
 "nbformat_minor": 4
}
