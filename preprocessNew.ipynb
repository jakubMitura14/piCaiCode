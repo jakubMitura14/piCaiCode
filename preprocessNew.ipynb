{
 "cells": [
  {
   "cell_type": "code",
   "execution_count": null,
   "metadata": {},
   "outputs": [],
   "source": [
    "# setting origin transform\n",
    "image.SetOrigin(image1.GetOrigin())\n"
   ]
  },
  {
   "cell_type": "code",
   "execution_count": null,
   "metadata": {},
   "outputs": [],
   "source": [
    "check data type and set it all to float32\n",
    "EnsureType https://docs.monai.io/en/stable/transforms.html#ensuretype\n",
    "\n",
    "one can set dtype  for example to torch.float,"
   ]
  },
  {
   "cell_type": "code",
   "execution_count": null,
   "metadata": {},
   "outputs": [],
   "source": [
    "#bias field normalization https://simpleitk.readthedocs.io/en/master/link_N4BiasFieldCorrection_docs.html\n",
    "corrector = sitk.N4BiasFieldCorrectionImageFilter()\n",
    "inputImage = sitk.Cast(image, sitk.sitkFloat32) #required by N4BiasFieldCorrectionImageFilter\n"
   ]
  },
  {
   "cell_type": "code",
   "execution_count": null,
   "metadata": {},
   "outputs": [],
   "source": [
    "#registration\n"
   ]
  },
  {
   "cell_type": "code",
   "execution_count": null,
   "metadata": {},
   "outputs": [],
   "source": [
    "#supersampling\n"
   ]
  },
  {
   "cell_type": "code",
   "execution_count": null,
   "metadata": {},
   "outputs": [],
   "source": [
    "#standarization using algorithm for standarization based on https://github.com/NIH-MIP/Radiology_Image_Preprocessing_for_Deep_Learning/blob/main/Codes/Main_Preprocessing.py\n",
    "\n",
    "#nyul\n",
    "            train(train_patients, dir1=join(args.target_folder,'Bias_field_corrected'),\n",
    "                               dir2=join(args.target_folder,'trained_model'+args.image_type+'.npz'))\n",
    "            Model_Path = join(args.target_folder,'trained_model'+args.image_type+'.npz')\n",
    "            f = np.load(Model_Path, allow_pickle=True)\n",
    "            Model = f['trainedModel'].all()\n",
    "            meanLandmarks = Model['meanLandmarks']\n",
    "\n",
    "            Patient_List = json.load(open(join(args.target_folder,'all_patients.json'),'r'))\n",
    "            for i, patient in enumerate(Patient_List):\n",
    "\n",
    "                Input_path = join(args.target_folder, 'Bias_field_corrected', patient)\n",
    "                print('Standardizing ...', basename(Input_path))\n",
    "                try:\n",
    "                    image_B = sitk.ReadImage(Input_path+'.nii')\n",
    "                except Exception:\n",
    "                    image_B = DicomRead(Input_path)\n",
    "\n",
    "                image_B_S= transform(image_B,meanLandmarks=meanLandmarks)"
   ]
  },
  {
   "cell_type": "code",
   "execution_count": null,
   "metadata": {},
   "outputs": [],
   "source": []
  },
  {
   "cell_type": "code",
   "execution_count": null,
   "metadata": {},
   "outputs": [],
   "source": [
    "Resize trochio trtansform https://torchio.readthedocs.io/transforms/preprocessing.html#torchio.transforms.Resample\n",
    "\n"
   ]
  },
  {
   "cell_type": "code",
   "execution_count": null,
   "metadata": {},
   "outputs": [],
   "source": [
    "\n",
    "\n"
   ]
  }
 ],
 "metadata": {
  "kernelspec": {
   "display_name": "Python 3 (ipykernel)",
   "language": "python",
   "name": "python3"
  },
  "language_info": {
   "codemirror_mode": {
    "name": "ipython",
    "version": 3
   },
   "file_extension": ".py",
   "mimetype": "text/x-python",
   "name": "python",
   "nbconvert_exporter": "python",
   "pygments_lexer": "ipython3",
   "version": "3.9.10"
  }
 },
 "nbformat": 4,
 "nbformat_minor": 4
}
