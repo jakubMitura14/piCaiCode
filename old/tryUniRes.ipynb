{
 "cells": [
  {
   "cell_type": "code",
   "execution_count": null,
   "id": "da6dcb50-5b76-4cce-a22d-c494dd9f272a",
   "metadata": {},
   "outputs": [],
   "source": [
    "#Frst we need to save files as nifti- we will keep the same folder structure just alternate file type\n",
    "def saveAsNifti(path):\n",
    "    image=sitk.ReadImage(path)\n",
    "    newPath = path.replace(\".mha\",\".nii.gz\")\n",
    "    writer = sitk.ImageFileWriter()\n",
    "    writer.KeepOriginalImageUIDOn()\n",
    "    writer.SetFileName(newPath)\n",
    "    writer.Execute(image)\n",
    "    return newPath\n",
    "\n",
    "for keyWord in ['t2w','adc', 'cor','hbv','sag','reSampledPath']:\n",
    "    train_patientsPaths=df[keyWord].dropna().astype('str').to_numpy()\n",
    "    train_patientsPaths=list(filter(lambda path: len(path)>2 ,train_patientsPaths))\n",
    "    with mp.Pool(processes = mp.cpu_count()) as pool:\n",
    "        pool.map(saveAsNifti,train_patientsPaths)\n",
    "\n"
   ]
  },
  {
   "cell_type": "code",
   "execution_count": null,
   "id": "0f41ecf3-a898-4a27-859b-cfda213de9a4",
   "metadata": {},
   "outputs": [],
   "source": [
    "from unires.struct import settings as s\n",
    "from unires.run import preproc\n",
    "\n",
    "\n",
    "import SimpleITK as sitk\n",
    "import pandas as pd\n",
    "\n",
    "df = pd.read_csv('/home/sliceruser/data/metadata/processedMetaData.csv')\n",
    "numb= 19\n",
    "\n",
    "pathT2w=df['t2w'].to_numpy()[numb]\n",
    "pathCor=df['cor'].to_numpy()[numb]\n",
    "pathSag=df['sag'].to_numpy()[numb]\n",
    "pathHbv=df['hbv'].to_numpy()[numb]\n",
    "pathAdc=df['adc'].to_numpy()[numb]\n",
    "pathLabel=df['reSampledPath'].to_numpy()[numb]\n",
    "\n",
    "\n",
    "\n",
    "\n",
    "def saveAsNifti(path):\n",
    "    image=sitk.ReadImage(path)\n",
    "    newPath = path.replace(\".mha\",\".nii.gz\")\n",
    "    writer = sitk.ImageFileWriter()\n",
    "    writer.KeepOriginalImageUIDOn()\n",
    "    writer.SetFileName(newPath)\n",
    "    writer.Execute(image)\n",
    "    return newPath\n",
    "pathT2wNew = saveAsNifti(pathT2w)\n",
    "pathCorNew = saveAsNifti(pathCor)\n",
    "pathSagNew=saveAsNifti(pathSag)\n",
    "pathHbvNew=saveAsNifti(pathHbv)\n",
    "pathAdcNew=saveAsNifti(pathAdc)\n",
    "pathLabelNew=saveAsNifti(pathLabel)\n",
    "\n",
    "\n",
    "df['isAnythingInAnnotated'].to_numpy()[numb]\n",
    "\n",
    "#image1=sitk.ReadImage(pathT2w)\n",
    "# pathT2w.replace(\".mha\",\".nii.gz\")"
   ]
  },
  {
   "cell_type": "code",
   "execution_count": null,
   "id": "ed0eadd1-7c33-4d7b-8efa-83720e65bdbf",
   "metadata": {},
   "outputs": [],
   "source": [
    "print(pathT2wNew)\n",
    "print(pathCorNew)\n",
    "print(pathSagNew)\n",
    "sett=s()\n",
    "sett.device='cpu' #TODO() remove\n",
    "#sett.do_atlas_align='false'\n",
    "sett.do_atlas_align=False\n",
    "#sett.cgs_max_iter=3#TODO() remove\n",
    "sett.max_iter=110#TODO() remove\n",
    "sett.dir_out = '/home/sliceruser/data/Unires'\n",
    "sett.label= pathLabelNew\n",
    "\n",
    "\n",
    "# in command line\n",
    "# unires /home/sliceruser/data/orig/10000/10000_1000000_t2w.nii.gz /home/sliceruser/data/orig/10000/10000_1000000_cor.nii.gz /home/sliceruser/data/orig/10000/10000_1000000_sag.nii.gz\n"
   ]
  },
  {
   "cell_type": "code",
   "execution_count": null,
   "id": "775628f7-29f7-4d99-99a0-444c221a6995",
   "metadata": {},
   "outputs": [],
   "source": [
    "res = preproc([pathT2wNew, pathCorNew,pathSagNew,pathHbvNew,pathAdcNew ],sett=sett)\n"
   ]
  },
  {
   "cell_type": "code",
   "execution_count": null,
   "id": "a6513aa6-5562-4e5a-bdbd-c92a261ea94a",
   "metadata": {},
   "outputs": [],
   "source": [
    "a='/home/sliceruser/data/Unires/ur_10000_1000000_cor.nii.gz'\n",
    "b='/home/sliceruser/data/Unires/ur_10000_1000000_sag.nii.gz'\n",
    "c='/home/sliceruser/data/Unires/ur_10000_1000000_t2w.nii.gz'\n",
    "image=sitk.ReadImage(c)\n",
    "image.GetSpacing()"
   ]
  }
 ],
 "metadata": {
  "kernelspec": {
   "display_name": "Python 3",
   "language": "python",
   "name": "python3"
  },
  "language_info": {
   "codemirror_mode": {
    "name": "ipython",
    "version": 3
   },
   "file_extension": ".py",
   "mimetype": "text/x-python",
   "name": "python",
   "nbconvert_exporter": "python",
   "pygments_lexer": "ipython3",
   "version": "3.9.10"
  }
 },
 "nbformat": 4,
 "nbformat_minor": 5
}
