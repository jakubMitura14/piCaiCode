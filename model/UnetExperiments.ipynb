{
 "cells": [
  {
   "cell_type": "code",
   "execution_count": null,
   "id": "db108b9c",
   "metadata": {},
   "outputs": [],
   "source": [
    "from unets import UNet\n",
    "\n",
    "# unet_hyperparam = {\n",
    "#     'batch_size': 8,\n",
    "#     'model_strides': [(2, 2, 2), (1, 2, 2), (1, 2, 2), (1, 2, 2), (2, 2, 2)],\n",
    "#     'model_features': [32, 64, 128, 256, 512, 1024]\n",
    "# }\n",
    "#from https://github.com/DIAGNijmegen/picai_baseline/blob/f71c9ed765e237869fd5b95b6ce9f340dfa66e22/src/picai_baseline/unet/train.py#L66\n",
    "    # prsr.add_argument('--image_shape',      type=int,   default=[20, 256, 256], help=\"Image Shape (Spatial Dimensions)\")\n",
    "    # prsr.add_argument('--num_channels',     type=int,   default=3,              help=\"Number of Channels/Sequences\")\n",
    "    # prsr.add_argument('--num_classes',      type=int,   default=2,              help=\"Number of Classes at Train-Time\")\n",
    "    # prsr.add_argument('--num_epochs',       type=int,   default=100,            help=\"Number of Training Epochs\")\n",
    "    # prsr.add_argument('--base_lr',          type=float, default=0.001,          help=\"Learning Rate\")\n",
    "\n",
    "\n",
    "#from https://github.com/DIAGNijmegen/picai_baseline/blob/main/src/picai_baseline/unet/training_setup/neural_network_selector.py\n",
    "\n",
    "model = UNet(\n",
    "        spatial_dims=3,\n",
    "        in_channels=3,# as far as I get it t2w, adc, hbv\n",
    "        out_channels=2,# present or not present adenocarcinoma\n",
    "        strides=[(2, 2, 2), (1, 2, 2), (1, 2, 2), (1, 2, 2), (2, 2, 2)],\n",
    "        channels=[32, 64, 128, 256, 512, 1024]\n",
    "    )"
   ]
  }
 ],
 "metadata": {
  "kernelspec": {
   "display_name": "Python 3",
   "language": "python",
   "name": "python3"
  },
  "language_info": {
   "codemirror_mode": {
    "name": "ipython",
    "version": 3
   },
   "file_extension": ".py",
   "mimetype": "text/x-python",
   "name": "python",
   "nbconvert_exporter": "python",
   "pygments_lexer": "ipython3",
   "version": "3.9.10"
  }
 },
 "nbformat": 4,
 "nbformat_minor": 5
}
